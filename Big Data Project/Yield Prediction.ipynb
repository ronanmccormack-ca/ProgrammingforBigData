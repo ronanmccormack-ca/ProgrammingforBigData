{
  "cells": [
    {
      "cell_type": "markdown",
      "metadata": {
        "id": "view-in-github",
        "colab_type": "text"
      },
      "source": [
        "<a href=\"https://colab.research.google.com/github/ronanmccormack-ca/ProgrammingforBigData/blob/main/Big%20Data%20Project/Yield%20Prediction.ipynb\" target=\"_parent\"><img src=\"https://colab.research.google.com/assets/colab-badge.svg\" alt=\"Open In Colab\"/></a>"
      ]
    },
    {
      "cell_type": "code",
      "execution_count": 6,
      "metadata": {
        "collapsed": true,
        "id": "DZwuClW8KvqK",
        "colab": {
          "base_uri": "https://localhost:8080/",
          "height": 130
        },
        "outputId": "096cb02a-4bdb-4f3b-e9eb-f90fe45e4e91"
      },
      "outputs": [
        {
          "output_type": "error",
          "ename": "SyntaxError",
          "evalue": "ignored",
          "traceback": [
            "\u001b[0;36m  File \u001b[0;32m\"<ipython-input-6-dfe8581c5ca7>\"\u001b[0;36m, line \u001b[0;32m9\u001b[0m\n\u001b[0;31m    from pyspark.sql.functions import col,\u001b[0m\n\u001b[0m                                     ^\u001b[0m\n\u001b[0;31mSyntaxError\u001b[0m\u001b[0;31m:\u001b[0m trailing comma not allowed without surrounding parentheses\n"
          ]
        }
      ],
      "source": [
        "!apt-get install openjdk-8-jdk-headless -qq > /dev/null\n",
        "!wget -q https://downloads.apache.org/spark/spark-3.0.3/spark-3.0.3-bin-hadoop2.7.tgz\n",
        "!tar xf spark-3.0.3-bin-hadoop2.7.tgz\n",
        "!pip install -q findspark\n",
        "import os\n",
        "os.environ[\"SPARK_HOME\"] = \"/content/spark-3.0.3-bin-hadoop2.7\"\n",
        "import findspark\n",
        "import pandas as pd\n",
        "from pyspark.sql.functions import *\n",
        "findspark.init()"
      ]
    },
    {
      "cell_type": "code",
      "source": [
        "from pyspark.sql import SparkSession\n",
        "spark = SparkSession.builder\\\n",
        "        .master(\"local\")\\\n",
        "        .appName(\"Yield Prediction\")\\\n",
        "        .config('spark.ui.port','4050')\\\n",
        "        .getOrCreate()\n",
        "spark"
      ],
      "metadata": {
        "colab": {
          "base_uri": "https://localhost:8080/",
          "height": 216
        },
        "id": "cz_gWN13LEve",
        "outputId": "23ad871a-a8d4-4992-c93b-949c04a9ee5f"
      },
      "execution_count": 2,
      "outputs": [
        {
          "output_type": "execute_result",
          "data": {
            "text/plain": [
              "<pyspark.sql.session.SparkSession at 0x7f1a51372750>"
            ],
            "text/html": [
              "\n",
              "            <div>\n",
              "                <p><b>SparkSession - in-memory</b></p>\n",
              "                \n",
              "        <div>\n",
              "            <p><b>SparkContext</b></p>\n",
              "\n",
              "            <p><a href=\"http://ed23bb816ee0:4050\">Spark UI</a></p>\n",
              "\n",
              "            <dl>\n",
              "              <dt>Version</dt>\n",
              "                <dd><code>v3.0.3</code></dd>\n",
              "              <dt>Master</dt>\n",
              "                <dd><code>local</code></dd>\n",
              "              <dt>AppName</dt>\n",
              "                <dd><code>Yield Prediction</code></dd>\n",
              "            </dl>\n",
              "        </div>\n",
              "        \n",
              "            </div>\n",
              "        "
            ]
          },
          "metadata": {},
          "execution_count": 2
        }
      ]
    },
    {
      "cell_type": "code",
      "source": [
        "!git clone https://github.com/ronanmccormack-ca/ProgrammingforBigData.git"
      ],
      "metadata": {
        "colab": {
          "base_uri": "https://localhost:8080/"
        },
        "id": "Ex-7Edn8LgGZ",
        "outputId": "615b0b7d-7725-4158-aa30-153995ae1299"
      },
      "execution_count": 3,
      "outputs": [
        {
          "output_type": "stream",
          "name": "stdout",
          "text": [
            "Cloning into 'ProgrammingforBigData'...\n",
            "remote: Enumerating objects: 57, done.\u001b[K\n",
            "remote: Counting objects: 100% (57/57), done.\u001b[K\n",
            "remote: Compressing objects: 100% (54/54), done.\u001b[K\n",
            "remote: Total 57 (delta 15), reused 35 (delta 3), pack-reused 0\u001b[K\n",
            "Unpacking objects: 100% (57/57), done.\n"
          ]
        }
      ]
    },
    {
      "cell_type": "code",
      "source": [
        "df = spark.read.csv('/content/ProgrammingforBigData/Big Data Project/data/inventory_data.csv',header='true',inferSchema=True)"
      ],
      "metadata": {
        "id": "iLRHlY4oh0Z9"
      },
      "execution_count": 4,
      "outputs": []
    },
    {
      "cell_type": "code",
      "source": [
        "df.groupBy(\"batch_id\",\"work_order_type_name\",'substance_type_name').sum('measure_event_value')\\\n",
        ".where((col(\"work_order_type_name\") == 'Drying')&(col(\"substance_type_name\")=='Dried Cannabis')).orderBy('batch_id').show()"
      ],
      "metadata": {
        "colab": {
          "base_uri": "https://localhost:8080/"
        },
        "id": "f9nS5Dh--OA7",
        "outputId": "1436d27c-4a91-4d1d-97e5-d03d7d549fa1"
      },
      "execution_count": 142,
      "outputs": [
        {
          "output_type": "stream",
          "name": "stdout",
          "text": [
            "+--------+--------------------+-------------------+------------------------+\n",
            "|batch_id|work_order_type_name|substance_type_name|sum(measure_event_value)|\n",
            "+--------+--------------------+-------------------+------------------------+\n",
            "|    7246|              Drying|     Dried Cannabis|                   55700|\n",
            "|    9697|              Drying|     Dried Cannabis|                  130662|\n",
            "|   15527|              Drying|     Dried Cannabis|                   51596|\n",
            "|   15528|              Drying|     Dried Cannabis|                    1230|\n",
            "|   15529|              Drying|     Dried Cannabis|                    1148|\n",
            "|   15530|              Drying|     Dried Cannabis|                    2028|\n",
            "|   15531|              Drying|     Dried Cannabis|                     967|\n",
            "|   15532|              Drying|     Dried Cannabis|                    1123|\n",
            "|   15533|              Drying|     Dried Cannabis|                    1845|\n",
            "|   15534|              Drying|     Dried Cannabis|                    2679|\n",
            "|   16037|              Drying|     Dried Cannabis|                   57592|\n",
            "|   22162|              Drying|     Dried Cannabis|                   70248|\n",
            "+--------+--------------------+-------------------+------------------------+\n",
            "\n"
          ]
        }
      ]
    },
    {
      "cell_type": "code",
      "source": [
        "df.select('batch_id','cultivar_id','work_order_type_name','work_order_close_date','substance_type_name','measure_event_value')\\\n",
        ".orderBy('measure_event_value')\\\n",
        ".filter((col('batch_id')==9697)\\\n",
        "        &(col(\"work_order_type_name\")=='Drying')\\\n",
        "        &(col(\"substance_type_name\")=='Dried Cannabis'))\\\n",
        ".show()"
      ],
      "metadata": {
        "colab": {
          "base_uri": "https://localhost:8080/"
        },
        "id": "8ovEXuGh_ND_",
        "outputId": "72c8e504-ed9b-4d82-d5e0-57bfaf21fddd"
      },
      "execution_count": 144,
      "outputs": [
        {
          "output_type": "stream",
          "name": "stdout",
          "text": [
            "+--------+-----------+--------------------+---------------------+-------------------+-------------------+\n",
            "|batch_id|cultivar_id|work_order_type_name|work_order_close_date|substance_type_name|measure_event_value|\n",
            "+--------+-----------+--------------------+---------------------+-------------------+-------------------+\n",
            "|    9697|       4494|              Drying|   2021-07-15 9:39:40|     Dried Cannabis|             130662|\n",
            "+--------+-----------+--------------------+---------------------+-------------------+-------------------+\n",
            "\n"
          ]
        }
      ]
    },
    {
      "cell_type": "code",
      "source": [
        "df.select('batch_id','cultivar_id','work_order_type_name','work_order_close_date','substance_type_name','measure_event_value')\\\n",
        ".filter((col('cultivar_id')==4494)\\\n",
        "        &(col(\"work_order_type_name\")=='Drying')\\\n",
        "        &(col(\"substance_type_name\")=='Dried Cannabis'))\\\n",
        ".groupBy('batch_id','work_order_close_date').sum('measure_event_value')\\\n",
        ".show()"
      ],
      "metadata": {
        "id": "4D2SQpAAZFsG",
        "outputId": "aa2fdf70-9d6f-4c31-f87b-fcf20b0eed25",
        "colab": {
          "base_uri": "https://localhost:8080/"
        }
      },
      "execution_count": 155,
      "outputs": [
        {
          "output_type": "stream",
          "name": "stdout",
          "text": [
            "+--------+---------------------+------------------------+\n",
            "|batch_id|work_order_close_date|sum(measure_event_value)|\n",
            "+--------+---------------------+------------------------+\n",
            "|    9697|   2021-07-15 9:39:40|                  130662|\n",
            "|   15527|  2021-11-24 13:48:12|                   51596|\n",
            "+--------+---------------------+------------------------+\n",
            "\n"
          ]
        }
      ]
    },
    {
      "cell_type": "code",
      "source": [
        "co2_sensor_1_data = spark.read.csv('/content/ProgrammingforBigData/Big Data Project/data/co2_sensor_1.csv',header='true',inferSchema=True)\n",
        "lux_sensor_1_data = spark.read.csv('/content/ProgrammingforBigData/Big Data Project/data/lux_sensor_1.csv',header='true',inferSchema=True)\n",
        "temp_hum_sensor_1_data = spark.read.csv('/content/ProgrammingforBigData/Big Data Project/data/temp_hum_sensor_1.csv',header='true',inferSchema=True)\n",
        "co2_sensor_2_data = spark.read.csv('/content/ProgrammingforBigData/Big Data Project/data/co2_sensor_2.csv',header='true',inferSchema=True)\n",
        "lux_sensor_2_data = spark.read.csv('/content/ProgrammingforBigData/Big Data Project/data/lux_sensor_2.csv',header='true',inferSchema=True)\n",
        "temp_hum_sensor_2_data = spark.read.csv('/content/ProgrammingforBigData/Big Data Project/data/temp_hum_sensor_2.csv',header='true',inferSchema=True)\n",
        "co2_sensor_3_data = spark.read.csv('/content/ProgrammingforBigData/Big Data Project/data/co2_sensor_3.csv',header='true',inferSchema=True)\n",
        "lux_sensor_3_data = spark.read.csv('/content/ProgrammingforBigData/Big Data Project/data/lux_sensor_3.csv',header='true',inferSchema=True)\n",
        "temp_hum_sensor_3_data = spark.read.csv('/content/ProgrammingforBigData/Big Data Project/data/temp_hum_sensor_3.csv',header='true',inferSchema=True)"
      ],
      "metadata": {
        "id": "8ubAK-QoGgfB"
      },
      "execution_count": 98,
      "outputs": []
    },
    {
      "cell_type": "code",
      "source": [
        "lux_sensor_1_data.withColumn(\"ts\",to_timestamp(col(\"Date\"))) \\\n",
        "  .withColumn(\"datetype\",to_date(col(\"ts\"))) \\\n",
        "  .groupBy('datetype').agg(mean('Value').alias('lux_sensor_1_mean'))\\\n",
        "  .filter((col('datetype')<='2021-07-15')&(col('datetype')>='2021-04-15'))\\\n",
        "  .join(lux_sensor_2_data.withColumn(\"ts\",to_timestamp(col(\"Date\"))) \\\n",
        "  .withColumn(\"datetype\",to_date(col(\"ts\"))) \\\n",
        "  .groupBy('datetype').agg(mean('Value').alias('lux_sensor_2_mean'))\\\n",
        "  .filter((col('datetype')<='2021-07-15')&(col('datetype')>='2021-04-15'))\\\n",
        "  ,on='datetype')\\\n",
        "  .join(lux_sensor_3_data.withColumn(\"ts\",to_timestamp(col(\"Date\"))) \\\n",
        "  .withColumn(\"datetype\",to_date(col(\"ts\"))) \\\n",
        "  .groupBy('datetype').agg(mean('Value').alias('lux_sensor_3_mean'))\\\n",
        "  .filter((col('datetype')<='2021-07-15')&(col('datetype')>='2021-04-15'))\\\n",
        "  ,on='datetype')\\\n",
        "  .join(co2_sensor_1_data.withColumn(\"ts\",to_timestamp(col(\"Date\"))) \\\n",
        "  .withColumn(\"datetype\",to_date(col(\"ts\"))) \\\n",
        "  .groupBy('datetype').agg(mean('Value').alias('co2_sensor_1_mean'))\\\n",
        "  .filter((col('datetype')<='2021-07-15')&(col('datetype')>='2021-04-15'))\\\n",
        "  ,on='datetype')\\\n",
        "  .join(co2_sensor_2_data.withColumn(\"ts\",to_timestamp(col(\"Date\"))) \\\n",
        "  .withColumn(\"datetype\",to_date(col(\"ts\"))) \\\n",
        "  .groupBy('datetype').agg(mean('Value').alias('co2_sensor_2_mean'))\\\n",
        "  .filter((col('datetype')<='2021-07-15')&(col('datetype')>='2021-04-15'))\\\n",
        "  ,on='datetype')\\\n",
        "  .join(co2_sensor_3_data.withColumn(\"ts\",to_timestamp(col(\"Date\"))) \\\n",
        "  .withColumn(\"datetype\",to_date(col(\"ts\"))) \\\n",
        "  .groupBy('datetype').agg(mean('Value').alias('co2_sensor_3_mean'))\\\n",
        "  .filter((col('datetype')<='2021-07-15')&(col('datetype')>='2021-04-15'))\\\n",
        "  ,on='datetype')\\\n",
        "  .join(temp_hum_sensor_1_data.withColumn(\"ts\",to_timestamp(col(\"Date\"))) \\\n",
        "  .withColumn(\"datetype\",to_date(col(\"ts\"))) \\\n",
        "  .groupBy('datetype').agg(mean('Value').alias('temp_hum_sensor_1_mean'))\\\n",
        "  .filter((col('datetype')<='2021-07-15')&(col('datetype')>='2021-04-15'))\\\n",
        "  ,on='datetype')\\\n",
        "  .join(temp_hum_sensor_2_data.withColumn(\"ts\",to_timestamp(col(\"Date\"))) \\\n",
        "  .withColumn(\"datetype\",to_date(col(\"ts\"))) \\\n",
        "  .groupBy('datetype').agg(mean('Value').alias('temp_hum_sensor_2_mean'))\\\n",
        "  .filter((col('datetype')<='2021-07-15')&(col('datetype')>='2021-04-15'))\\\n",
        "  ,on='datetype')\\\n",
        "  .join(temp_hum_sensor_3_data.withColumn(\"ts\",to_timestamp(col(\"Date\"))) \\\n",
        "  .withColumn(\"datetype\",to_date(col(\"ts\"))) \\\n",
        "  .groupBy('datetype').agg(mean('Value').alias('temp_hum_sensor_3_mean'))\\\n",
        "  .filter((col('datetype')<='2021-07-15')&(col('datetype')>='2021-04-15'))\\\n",
        "  ,on='datetype')\\\n",
        "  .sort('datetype',ascending=True)\\\n",
        "  .show(truncate=False)"
      ],
      "metadata": {
        "colab": {
          "base_uri": "https://localhost:8080/"
        },
        "id": "36F46iAnTwoF",
        "outputId": "25e9e42e-d406-42c8-c8ad-e9b346899037"
      },
      "execution_count": 158,
      "outputs": [
        {
          "output_type": "stream",
          "name": "stdout",
          "text": [
            "+----------+------------------+------------------+------------------+-----------------+-----------------+------------------+----------------------+----------------------+----------------------+\n",
            "|datetype  |lux_sensor_1_mean |lux_sensor_2_mean |lux_sensor_3_mean |co2_sensor_1_mean|co2_sensor_2_mean|co2_sensor_3_mean |temp_hum_sensor_1_mean|temp_hum_sensor_2_mean|temp_hum_sensor_3_mean|\n",
            "+----------+------------------+------------------+------------------+-----------------+-----------------+------------------+----------------------+----------------------+----------------------+\n",
            "|2021-04-15|2860.8819444444443|2232.8611111111113|5179.694444444444 |860.5347222222222|894.6875         |525.7222222222222 |58.956388888888846    |69.34562500000001     |68.77645833333332     |\n",
            "|2021-04-16|2912.1111111111113|2309.909722222222 |5201.263888888889 |838.2291666666666|874.8472222222222|576.7847222222222 |58.103333333333325    |63.56611111111109     |64.71840277777781     |\n",
            "|2021-04-17|2895.784722222222 |2305.3194444444443|5194.513888888889 |855.9375         |875.7361111111111|471.1041666666667 |58.75111111111112     |67.43326388888889     |64.26930555555558     |\n",
            "|2021-04-18|2872.527777777778 |2291.4583333333335|5166.465277777777 |831.4930555555555|852.5763888888889|330.50694444444446|58.63291666666665     |65.95944444444447     |64.18472222222222     |\n",
            "|2021-04-19|2857.1736111111113|2257.2361111111113|5234.527777777777 |827.8263888888889|847.9236111111111|287.8541666666667 |58.74819444444443     |66.02097222222223     |64.75069444444449     |\n",
            "|2021-04-20|2849.3541666666665|2241.3819444444443|5207.152777777777 |832.9236111111111|866.6458333333334|266.99305555555554|58.3675               |69.22888888888889     |65.73680555555555     |\n",
            "|2021-04-21|2826.4861111111113|2216.7430555555557|5171.430555555556 |794.5347222222222|835.0069444444445|240.63888888888889|58.16833333333333     |64.93243055555557     |65.7707638888889      |\n",
            "|2021-04-22|3032.375          |2371.2638888888887|5210.902777777777 |851.7708333333334|866.6180555555555|245.77083333333334|58.77249999999997     |64.26972222222224     |62.20430555555559     |\n",
            "|2021-04-23|4892.520833333333 |4016.3263888888887|5164.458333333333 |838.0416666666666|876.6388888888889|179.61111111111111|58.376041666666666    |65.89069444444438     |62.46                 |\n",
            "|2021-04-24|4887.472222222223 |3968.1041666666665|5153.069444444444 |800.0486111111111|833.0416666666666|156.36111111111111|57.70833333333334     |66.11763888888889     |62.14784722222222     |\n",
            "|2021-04-25|4939.798611111111 |3986.597222222222 |5212.493055555556 |745.0625         |747.1458333333334|634.1041666666666 |58.448402777777765    |65.92604166666666     |63.10048611111112     |\n",
            "|2021-04-26|4808.138888888889 |3887.4166666666665|5244.861111111111 |668.4513888888889|670.5208333333334|1253.6666666666667|57.51006993006992     |67.20465277777778     |60.536041666666684    |\n",
            "|2021-04-27|4569.666666666667 |3847.527777777778 |3458.2708333333335|788.6944444444445|767.5694444444445|1416.6319444444443|51.036041666666655    |58.193472222222226    |60.82277777777776     |\n",
            "|2021-04-28|4160.090277777777 |3622.090277777778 |15.319444444444445|560.2638888888889|551.8402777777778|1571.2291666666667|45.26854166666663     |49.082499999999996    |61.159652777777765    |\n",
            "|2021-04-29|7063.089743589743 |6369.434210526316 |18.628205128205128|538.8395061728395|527.7179487179487|1723.3076923076924|43.5590243902439      |48.105662650602405    |63.20740740740741     |\n",
            "|2021-04-30|18633.47619047619 |148.88095238095238|9960.095238095239 |667.9285714285714|713.047619047619 |674.1666666666666 |54.697142857142865    |55.92595238095238     |55.69190476190476     |\n",
            "|2021-05-01|13884.194444444445|102.40972222222223|7115.416666666667 |746.4097222222222|775.2638888888889|724.9305555555555 |55.92666666666665     |56.69388888888886     |56.529722222222205    |\n",
            "|2021-05-02|13755.138888888889|63.4375           |6819.25           |794.6388888888889|839.0555555555555|788.8194444444445 |55.3234722222222      |56.08374999999998     |56.115555555555574    |\n",
            "|2021-05-03|9186.729166666666 |1545.701388888889 |6877.048611111111 |770.2847222222222|812.7013888888889|759.0972222222222 |56.74173611111109     |57.92388888888887     |57.63868055555555     |\n",
            "|2021-05-04|4336.409722222223 |2721.659722222222 |6707.736111111111 |806.625          |866.6319444444445|803.0694444444445 |57.40395833333335     |59.21826388888888     |58.102083333333326    |\n",
            "+----------+------------------+------------------+------------------+-----------------+-----------------+------------------+----------------------+----------------------+----------------------+\n",
            "only showing top 20 rows\n",
            "\n"
          ]
        }
      ]
    },
    {
      "cell_type": "code",
      "source": [
        "lux_sensor_1_data.withColumn(\"ts\",to_timestamp(col(\"Date\"))) \\\n",
        "  .withColumn(\"datetype\",to_date(col(\"ts\"))) \\\n",
        "  .groupBy('datetype').agg(mean('Value').alias('lux_sensor_1_mean'))\\\n",
        "  .filter((col('datetype')<='2021-11-24')&(col('datetype')>='2021-07-24'))\\\n",
        "  .join(lux_sensor_2_data.withColumn(\"ts\",to_timestamp(col(\"Date\"))) \\\n",
        "  .withColumn(\"datetype\",to_date(col(\"ts\"))) \\\n",
        "  .groupBy('datetype').agg(mean('Value').alias('lux_sensor_2_mean'))\\\n",
        "  .filter((col('datetype')<='2021-11-24')&(col('datetype')>='2021-07-24'))\\\n",
        "  ,on='datetype')\\\n",
        "  .join(lux_sensor_3_data.withColumn(\"ts\",to_timestamp(col(\"Date\"))) \\\n",
        "  .withColumn(\"datetype\",to_date(col(\"ts\"))) \\\n",
        "  .groupBy('datetype').agg(mean('Value').alias('lux_sensor_3_mean'))\\\n",
        "  .filter((col('datetype')<='2021-11-24')&(col('datetype')>='2021-07-24'))\\\n",
        "  ,on='datetype')\\\n",
        "  .join(co2_sensor_1_data.withColumn(\"ts\",to_timestamp(col(\"Date\"))) \\\n",
        "  .withColumn(\"datetype\",to_date(col(\"ts\"))) \\\n",
        "  .groupBy('datetype').agg(mean('Value').alias('co2_sensor_1_mean'))\\\n",
        "  .filter((col('datetype')<='2021-11-24')&(col('datetype')>='2021-07-24'))\\\n",
        "  ,on='datetype')\\\n",
        "  .join(co2_sensor_2_data.withColumn(\"ts\",to_timestamp(col(\"Date\"))) \\\n",
        "  .withColumn(\"datetype\",to_date(col(\"ts\"))) \\\n",
        "  .groupBy('datetype').agg(mean('Value').alias('co2_sensor_2_mean'))\\\n",
        "  .filter((col('datetype')<='2021-11-24')&(col('datetype')>='2021-07-24'))\\\n",
        "  ,on='datetype')\\\n",
        "  .join(co2_sensor_3_data.withColumn(\"ts\",to_timestamp(col(\"Date\"))) \\\n",
        "  .withColumn(\"datetype\",to_date(col(\"ts\"))) \\\n",
        "  .groupBy('datetype').agg(mean('Value').alias('co2_sensor_3_mean'))\\\n",
        "  .filter((col('datetype')<='2021-11-24')&(col('datetype')>='2021-07-24'))\\\n",
        "  ,on='datetype')\\\n",
        "  .join(temp_hum_sensor_1_data.withColumn(\"ts\",to_timestamp(col(\"Date\"))) \\\n",
        "  .withColumn(\"datetype\",to_date(col(\"ts\"))) \\\n",
        "  .groupBy('datetype').agg(mean('Value').alias('temp_hum_sensor_1_mean'))\\\n",
        "  .filter((col('datetype')<='2021-11-24')&(col('datetype')>='2021-07-24'))\\\n",
        "  ,on='datetype')\\\n",
        "  .join(temp_hum_sensor_2_data.withColumn(\"ts\",to_timestamp(col(\"Date\"))) \\\n",
        "  .withColumn(\"datetype\",to_date(col(\"ts\"))) \\\n",
        "  .groupBy('datetype').agg(mean('Value').alias('temp_hum_sensor_2_mean'))\\\n",
        "  .filter((col('datetype')<='2021-11-24')&(col('datetype')>='2021-07-24'))\\\n",
        "  ,on='datetype')\\\n",
        "  .join(temp_hum_sensor_3_data.withColumn(\"ts\",to_timestamp(col(\"Date\"))) \\\n",
        "  .withColumn(\"datetype\",to_date(col(\"ts\"))) \\\n",
        "  .groupBy('datetype').agg(mean('Value').alias('temp_hum_sensor_3_mean'))\\\n",
        "  .filter((col('datetype')<='2021-11-24')&(col('datetype')>='2021-07-24'))\\\n",
        "  ,on='datetype')\\\n",
        "  .sort('datetype',ascending=True)\\\n",
        "  .show(truncate=False)"
      ],
      "metadata": {
        "colab": {
          "base_uri": "https://localhost:8080/"
        },
        "id": "SH10mEU1KObz",
        "outputId": "c66f603d-d876-4bd0-e28c-29c7865eb63c"
      },
      "execution_count": 159,
      "outputs": [
        {
          "output_type": "stream",
          "name": "stdout",
          "text": [
            "+----------+--------------------+------------------+------------------+------------------+------------------+------------------+----------------------+----------------------+----------------------+\n",
            "|datetype  |lux_sensor_1_mean   |lux_sensor_2_mean |lux_sensor_3_mean |co2_sensor_1_mean |co2_sensor_2_mean |co2_sensor_3_mean |temp_hum_sensor_1_mean|temp_hum_sensor_2_mean|temp_hum_sensor_3_mean|\n",
            "+----------+--------------------+------------------+------------------+------------------+------------------+------------------+----------------------+----------------------+----------------------+\n",
            "|2021-08-04|0.0                 |0.875             |0.0               |1087.0            |1237.9166666666667|1104.8032786885246|82.84506944444449     |83.16548611111108     |83.47888888888887     |\n",
            "|2021-08-05|4.111888111888112   |5.489510489510489 |6.615384615384615 |1012.2916666666666|1161.6971830985915|1034.4965034965035|81.21013888888896     |81.20486111111111     |81.07583333333338     |\n",
            "|2021-08-06|0.0                 |0.9858156028368794|0.5874125874125874|839.2167832167833 |1082.972027972028 |859.6527777777778 |76.42381944444445     |75.95638888888888     |76.01909722222224     |\n",
            "|2021-08-07|0.0                 |0.0               |0.0               |822.7342657342657 |964.1597222222222 |847.0555555555555 |75.79798611111111     |75.13479166666667     |75.3486111111111      |\n",
            "|2021-08-08|0.0                 |0.0               |0.0               |778.5524475524476 |910.5             |801.1666666666666 |74.54097222222225     |73.74333333333333     |74.05680555555558     |\n",
            "|2021-08-09|0.0                 |2.0347222222222223|5.763888888888889 |893.3426573426574 |1043.9652777777778|917.9305555555555 |75.79993055555555     |75.09708333333334     |75.3508333333333      |\n",
            "|2021-08-10|0.0                 |3.1944444444444446|4.625             |1248.027972027972 |1443.6013986013986|1282.9097222222222|78.43152777777776     |78.31819444444444     |77.75604166666669     |\n",
            "|2021-08-11|0.05555555555555555 |4.333333333333333 |4.118055555555555 |1251.888888888889 |1447.3028169014085|1275.8333333333333|81.12812500000003     |80.38354166666669     |80.69791666666664     |\n",
            "|2021-08-12|0.0                 |0.6805555555555556|0.6666666666666666|1042.6643356643356|1808.3006993006993|1023.9513888888889|89.63291666666667     |84.28569444444446     |85.42944444444447     |\n",
            "|2021-08-13|0.020833333333333332|1674.7708333333333|0.0               |1224.201388888889 |2491.888111888112 |980.8125          |99.85430555555556     |87.66729166666666     |79.39479166666666     |\n",
            "|2021-08-14|0.0                 |3819.1666666666665|0.0               |1676.8055555555557|1219.9166666666667|956.0416666666666 |100.0                 |86.41125              |60.8060416666667      |\n",
            "|2021-08-15|0.0                 |4353.833333333333 |0.0               |1639.006993006993 |1028.8055555555557|907.0769230769231 |100.0                 |78.9447222222222      |58.40534722222222     |\n",
            "|2021-08-16|0.0                 |4326.307692307692 |0.0               |1655.9097222222222|1056.6643356643356|1033.1319444444443|100.0                 |84.50159722222219     |57.9026388888889      |\n",
            "|2021-08-17|0.0                 |3849.1388888888887|0.0               |1684.138888888889 |958.0416666666666 |1478.1319444444443|100.0                 |97.50222222222219     |54.831111111111085    |\n",
            "|2021-08-18|1265.736111111111   |1089.861111111111 |15.27972027972028 |1652.4652777777778|1537.625          |2236.853146853147 |100.0                 |79.04680555555552     |54.988472222222214    |\n",
            "|2021-08-19|2481.8958333333335  |0.0               |0.0               |1951.798611111111 |2297.8169014084506|3258.4444444444443|null                  |60.69118055555555     |55.80062500000002     |\n",
            "|2021-08-20|1866.388888888889   |0.0               |0.0               |1932.979020979021 |2244.1805555555557|3217.7638888888887|100.0                 |63.295625             |60.55444444444441     |\n",
            "|2021-08-21|1961.5664335664335  |0.0               |0.0               |1853.7569444444443|2150.972027972028 |3104.1736111111113|82.55843971631207     |61.599999999999994    |58.30416666666666     |\n",
            "|2021-08-22|1961.9166666666667  |0.0               |0.0               |1689.2777777777778|1963.958041958042 |2892.1666666666665|68.6834027777778      |59.25777777777778     |55.78534722222221     |\n",
            "|2021-08-23|1771.548611111111   |0.0               |0.0               |1646.3125         |1912.6180555555557|2843.465277777778 |59.685138888888886    |58.28618055555554     |55.05055555555558     |\n",
            "+----------+--------------------+------------------+------------------+------------------+------------------+------------------+----------------------+----------------------+----------------------+\n",
            "only showing top 20 rows\n",
            "\n"
          ]
        }
      ]
    },
    {
      "cell_type": "code",
      "source": [
        ""
      ],
      "metadata": {
        "id": "fL5YDC7Pb5G_"
      },
      "execution_count": null,
      "outputs": []
    }
  ],
  "metadata": {
    "kernelspec": {
      "display_name": "Python 3",
      "language": "python",
      "name": "python3"
    },
    "language_info": {
      "codemirror_mode": {
        "name": "ipython",
        "version": 2
      },
      "file_extension": ".py",
      "mimetype": "text/x-python",
      "name": "python",
      "nbconvert_exporter": "python",
      "pygments_lexer": "ipython2",
      "version": "2.7.6"
    },
    "colab": {
      "name": "Yield Prediction.ipynb",
      "provenance": [],
      "include_colab_link": true
    }
  },
  "nbformat": 4,
  "nbformat_minor": 0
}