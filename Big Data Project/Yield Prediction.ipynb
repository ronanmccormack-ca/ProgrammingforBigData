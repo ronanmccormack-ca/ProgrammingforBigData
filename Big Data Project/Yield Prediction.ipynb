{
  "cells": [
    {
      "cell_type": "code",
      "execution_count": 3,
      "metadata": {
        "collapsed": true,
        "id": "DZwuClW8KvqK"
      },
      "outputs": [],
      "source": [
        "!apt-get install openjdk-8-jdk-headless -qq > /dev/null\n",
        "!wget -q https://downloads.apache.org/spark/spark-3.0.3/spark-3.0.3-bin-hadoop2.7.tgz\n",
        "!tar xf spark-3.0.3-bin-hadoop2.7.tgz\n",
        "!pip install -q findspark\n",
        "import os\n",
        "os.environ[\"SPARK_HOME\"] = \"/content/spark-3.0.3-bin-hadoop2.7\"\n",
        "import findspark\n",
        "findspark.init()"
      ]
    },
    {
      "cell_type": "code",
      "source": [
        "from pyspark.sql import SparkSession\n",
        "spark = SparkSession.builder\\\n",
        "        .master(\"local\")\\\n",
        "        .appName(\"Colab\")\\\n",
        "        .config('spark.ui.port','4050')\\\n",
        "        .getOrCreate()\n",
        "spark"
      ],
      "metadata": {
        "id": "cz_gWN13LEve",
        "outputId": "e3672b1a-2b0f-4dff-d442-2ff58cc0e31a",
        "colab": {
          "base_uri": "https://localhost:8080/",
          "height": 216
        }
      },
      "execution_count": 4,
      "outputs": [
        {
          "output_type": "execute_result",
          "data": {
            "text/plain": [
              "<pyspark.sql.session.SparkSession at 0x7f3a683ce6d0>"
            ],
            "text/html": [
              "\n",
              "            <div>\n",
              "                <p><b>SparkSession - in-memory</b></p>\n",
              "                \n",
              "        <div>\n",
              "            <p><b>SparkContext</b></p>\n",
              "\n",
              "            <p><a href=\"http://eb2b31c73e7b:4050\">Spark UI</a></p>\n",
              "\n",
              "            <dl>\n",
              "              <dt>Version</dt>\n",
              "                <dd><code>v3.0.3</code></dd>\n",
              "              <dt>Master</dt>\n",
              "                <dd><code>local</code></dd>\n",
              "              <dt>AppName</dt>\n",
              "                <dd><code>Colab</code></dd>\n",
              "            </dl>\n",
              "        </div>\n",
              "        \n",
              "            </div>\n",
              "        "
            ]
          },
          "metadata": {},
          "execution_count": 4
        }
      ]
    },
    {
      "cell_type": "code",
      "source": [
        "!git clone https://github.com/ronanmccormack-ca/ProgrammingforBigData.git"
      ],
      "metadata": {
        "id": "Ex-7Edn8LgGZ",
        "outputId": "cd93da80-8eea-418d-8a71-7a43bf079902",
        "colab": {
          "base_uri": "https://localhost:8080/"
        }
      },
      "execution_count": 7,
      "outputs": [
        {
          "output_type": "stream",
          "name": "stdout",
          "text": [
            "Cloning into 'ProgrammingforBigData'...\n",
            "remote: Enumerating objects: 41, done.\u001b[K\n",
            "remote: Counting objects: 100% (41/41), done.\u001b[K\n",
            "remote: Compressing objects: 100% (38/38), done.\u001b[K\n",
            "remote: Total 41 (delta 8), reused 36 (delta 3), pack-reused 0\u001b[K\n",
            "Unpacking objects: 100% (41/41), done.\n"
          ]
        }
      ]
    },
    {
      "cell_type": "code",
      "source": [
        "df = spark.read.csv('/content/ProgrammingforBigData/Big Data Project/data/inventory_data.csv',header='true',inferSchema=True)"
      ],
      "metadata": {
        "id": "iLRHlY4oh0Z9"
      },
      "execution_count": 11,
      "outputs": []
    },
    {
      "cell_type": "code",
      "source": [
        "df.show()"
      ],
      "metadata": {
        "id": "sECtGNBuiaBB",
        "outputId": "d0bd001c-68ab-407e-9f89-1f3598f21325",
        "colab": {
          "base_uri": "https://localhost:8080/"
        }
      },
      "execution_count": 12,
      "outputs": [
        {
          "output_type": "stream",
          "name": "stdout",
          "text": [
            "+------------------+----------------+-------------------------------+--------+--------------------+-----------+--------------+-----------+--------------------+-------------+--------------------+------------------+--------------------+---------------------+---------------------+-----------------+-------------------+-------------------+------------------+----+----+----+----+----+----+----+\n",
            "|measure_event_type|measure_event_id|measure_event_performed_on_date|batch_id|          batch_name|cultivar_id| cultivar_name|location_id|       location_name|work_order_id|     work_order_name|work_order_type_id|work_order_type_name|work_order_start_date|work_order_close_date|substance_type_id|substance_type_name|measure_event_value|measure_event_unit|_c19|_c20|_c21|_c22|_c23|_c24|_c25|\n",
            "+------------------+----------------+-------------------------------+--------+--------------------+-----------+--------------+-----------+--------------------+-------------+--------------------+------------------+--------------------+---------------------+---------------------+-----------------+-------------------+-------------------+------------------+----+----+----+----+----+----+----+\n",
            "|        WO - INPUT|          281349|            2021-11-25 12:55:36|   15534|Space Cake Trials...|       7869|    Space Cake|       null|                null|        23555|Change Location f...|              1051|     Change Location|  2021-11-25 12:55:36|  2021-11-25 12:55:36|              819|     Dried Cannabis|               2632|                 g|null|null|null|null|null|null|null|\n",
            "|        WO - INPUT|          281357|            2021-11-25 12:58:25|   15533|Shaq Fu Trial 06/...|       7861|           NN1|       null|                null|        23558|30g Sample Shippe...|               704|     Sample Shipment|  2021-11-25 12:58:05|  2021-11-25 12:58:30|              819|     Dried Cannabis|                 30|                 g|null|null|null|null|null|null|null|\n",
            "|        WO - INPUT|          281360|            2021-11-25 12:59:46|   15532|Sour Apple Truffl...|       7862|           NN2|       null|                null|        23559|50g Sample sent t...|               704|     Sample Shipment|  2021-11-25 12:59:31|  2021-11-25 13:00:01|              819|     Dried Cannabis|                 50|                 g|null|null|null|null|null|null|null|\n",
            "|        WO - INPUT|          281364|            2021-11-25 13:02:49|   15531|Soul Magic Trials...|       7863|           NN3|       null|                null|        23561|30g Sample Shippe...|               704|     Sample Shipment|  2021-11-25 13:02:29|  2021-11-25 13:02:53|              819|     Dried Cannabis|                 30|                 g|null|null|null|null|null|null|null|\n",
            "|        WO - INPUT|          281372|            2021-11-25 13:04:01|   15530|Black Do-Lato Tri...|       7864|           NN4|       null|                null|        23563|40g Sample sent t...|               704|     Sample Shipment|  2021-11-25 13:03:47|  2021-11-25 13:04:06|              819|     Dried Cannabis|                 40|                 g|null|null|null|null|null|null|null|\n",
            "|        WO - INPUT|           68399|            2021-03-17 14:01:05|    7246|      Blue Lime Pi 2|       4493|  Blue Lime PI|       1356|202 - Post-harves...|         4672|010820 BLP Drying #1|               446|              Drying|  2021-03-18 14:00:08|   2021-04-13 9:53:02|              762|     Fresh Cannabis|             302000|                 g|null|null|null|null|null|null|null|\n",
            "|        WO - INPUT|          130918|             2021-06-28 9:35:25|    9697|     BLP5 - 03/09/21|       4494|  Blue Lime Pi|       null|                null|         9494|BLP5 - 03/09/21  ...|               446|              Drying|   2021-06-28 9:34:55|   2021-07-15 9:39:40|              762|     Fresh Cannabis|             642300|                 g|null|null|null|null|null|null|null|\n",
            "|        WO - INPUT|          117245|            2021-06-24 12:33:10|    7246|      Blue Lime Pi 2|       4493|  Blue Lime PI|       1357|203 - Secure storage|         7733|Sale of Cannabis ...|               557|    Sale of Cannabis|  2021-06-24 10:02:51|  2021-06-24 12:34:18|              819|     Dried Cannabis|              52000|                 g|null|null|null|null|null|null|null|\n",
            "|        WO - INPUT|          156015|             2021-08-18 7:54:42|    7246|      Blue Lime Pi 2|       4493|  Blue Lime PI|       1357|203 - Secure storage|        12298|Blue Lime Pi 2 Re...|               776|Internal Retentio...|   2021-08-18 7:54:17|   2021-08-19 7:55:34|              819|     Dried Cannabis|                200|                 g|null|null|null|null|null|null|null|\n",
            "|        WO - INPUT|          291636|            2021-12-06 14:42:17|   15527|Blue Lime Pi 9 07...|       4494|  Blue Lime Pi|       null|                null|        24476|10g To Pura for C...|               704|     Sample Shipment|  2021-12-06 11:42:04|   2021-12-07 8:42:47|              819|     Dried Cannabis|                 10|                 g|null|null|null|null|null|null|null|\n",
            "|        WO - INPUT|          323967|            2021-12-31 12:34:06|   15534|Space Cake Trials...|       7869|    Space Cake|       1356|202 - Post-harves...|        27170|Space Cake Trimmi...|              1141| Trimming Work Order|  2021-12-31 12:33:19|  2021-12-31 16:22:40|              819|     Dried Cannabis|               2632|                 g|null|null|null|null|null|null|null|\n",
            "|        WO - INPUT|          316956|            2021-12-28 11:48:01|   16037|Mango Merengue 08...|       7907|Mango Merengue|       1356|202 - Post-harves...|        26740| Trimming Work Order|              1141| Trimming Work Order|  2021-12-28 11:47:43|  2022-01-06 10:16:56|              819|     Dried Cannabis|              55882|                 g|null|null|null|null|null|null|null|\n",
            "|        WO - INPUT|          289611|            2021-11-25 16:01:11|   16037|Mango Merengue 08...|       7907|Mango Merengue|       null|                null|        24252|Mango Merengue 08...|               446|              Drying|  2021-11-25 15:00:37|   2021-12-08 9:19:58|              762|     Fresh Cannabis|             292610|                 g|null|null|null|null|null|null|null|\n",
            "|        WO - INPUT|          296119|            2021-12-08 13:53:37|   16037|Mango Merengue 08...|       7907|Mango Merengue|       null|                null|        24786|30g Pura Sample F...|               704|     Sample Shipment|  2021-12-08 13:53:21|  2021-12-08 13:53:47|              819|     Dried Cannabis|                 30|                 g|null|null|null|null|null|null|null|\n",
            "|        WO - INPUT|          297663|            2021-12-10 13:33:20|   15527|Blue Lime Pi 9 07...|       4494|  Blue Lime Pi|       1357|203 - Secure storage|        24915|200g BLP #9 Inter...|               776|Internal Retentio...|  2021-12-10 13:32:57|   2022-01-20 9:17:00|              819|     Dried Cannabis|                200|                 g|null|null|null|null|null|null|null|\n",
            "|        WO - INPUT|          275700|            2021-11-11 15:43:11|   15527|Blue Lime Pi 9 07...|       4494|  Blue Lime Pi|       null|                null|        23070|Blue Lime Pi 9 07...|               446|              Drying|  2021-11-11 15:42:56|  2021-11-24 13:48:12|              762|     Fresh Cannabis|             235732|                 g|null|null|null|null|null|null|null|\n",
            "|        WO - INPUT|          281173|            2021-11-25 11:38:31|   15527|Blue Lime Pi 9 07...|       4494|  Blue Lime Pi|       null|                null|        23523|30g Pura Sample F...|               704|     Sample Shipment|  2021-11-25 11:38:15|  2021-11-29 11:38:44|              819|     Dried Cannabis|                 30|                 g|null|null|null|null|null|null|null|\n",
            "|        WO - INPUT|          281241|            2021-11-11 12:13:28|   15528|Black Wine Trials...|       7866|           NN6|       null|                null|        23526|Black Wine Trials...|               446|              Drying|  2021-11-11 12:13:10|  2021-11-25 12:13:59|              762|     Fresh Cannabis|               5264|                 g|null|null|null|null|null|null|null|\n",
            "|        WO - INPUT|          281265|            2021-11-11 12:32:13|   15529|Black Hammer Tria...|       7865|           NN5|       null|                null|        23539|Black Hammer Tria...|               446|              Drying|  2021-11-11 12:31:58|  2021-11-25 12:33:02|              762|     Fresh Cannabis|               3938|                 g|null|null|null|null|null|null|null|\n",
            "|        WO - INPUT|          281345|            2021-11-25 12:53:50|   15534|Space Cake Trials...|       7869|    Space Cake|       null|                null|        23554|Shipped 10g to Pu...|               704|     Sample Shipment|  2021-11-25 12:53:27|  2021-11-25 12:53:55|              819|     Dried Cannabis|                 10|                 g|null|null|null|null|null|null|null|\n",
            "+------------------+----------------+-------------------------------+--------+--------------------+-----------+--------------+-----------+--------------------+-------------+--------------------+------------------+--------------------+---------------------+---------------------+-----------------+-------------------+-------------------+------------------+----+----+----+----+----+----+----+\n",
            "only showing top 20 rows\n",
            "\n"
          ]
        }
      ]
    },
    {
      "cell_type": "code",
      "source": [
        "df.describe().show()"
      ],
      "metadata": {
        "id": "NNqd2AfJicm-",
        "outputId": "960db852-8334-4b67-d2c4-09f0fd56c341",
        "colab": {
          "base_uri": "https://localhost:8080/"
        }
      },
      "execution_count": 13,
      "outputs": [
        {
          "output_type": "stream",
          "name": "stdout",
          "text": [
            "+-------+------------------+------------------+-------------------------------+------------------+--------------------+------------------+-------------+-----------------+--------------------+-----------------+--------------------+------------------+--------------------+---------------------+---------------------+------------------+--------------------+-------------------+------------------+----+----+----+----+----+----+----+\n",
            "|summary|measure_event_type|  measure_event_id|measure_event_performed_on_date|          batch_id|          batch_name|       cultivar_id|cultivar_name|      location_id|       location_name|    work_order_id|     work_order_name|work_order_type_id|work_order_type_name|work_order_start_date|work_order_close_date| substance_type_id| substance_type_name|measure_event_value|measure_event_unit|_c19|_c20|_c21|_c22|_c23|_c24|_c25|\n",
            "+-------+------------------+------------------+-------------------------------+------------------+--------------------+------------------+-------------+-----------------+--------------------+-----------------+--------------------+------------------+--------------------+---------------------+---------------------+------------------+--------------------+-------------------+------------------+----+----+----+----+----+----+----+\n",
            "|  count|               218|               218|                            218|               218|                 218|               218|          218|               60|                  60|              118|                 118|               118|                 118|                  118|                  116|               218|                 218|                218|               218|   0|   0|   0|   0|   0|   0|   0|\n",
            "|   mean|              null|306078.43119266053|                           null|17625.857798165136|                null| 7483.344036697248|         null|          1356.25|                null|24879.28813559322|                null| 736.6610169491526|                null|                 null|                 null| 970.1697247706422|                null| 26436.628440366974|              null|null|null|null|null|null|null|null|\n",
            "| stddev|              null|103680.20436437718|                           null|4749.1701455992625|                null|1789.1401832665383|         null|0.508403949897276|                null|7673.304637053087|                null| 309.1793720615246|                null|                 null|                 null|261.47883861284134|                null|  83636.07853484161|              null|null|null|null|null|null|null|null|\n",
            "|    min|       DESTRUCTION|             62572|            2021-03-17 12:49:07|              7246|     BLP5 - 03/09/21|              4493| Blue Lime PI|             1355|   201 - Cultivation|             4234|010820 BLP Drying #1|               429|     Change Location|  2021-03-12 13:44:19|  2021-03-12 13:46:29|               762|      Dried Cannabis|                  3|                 g|null|null|null|null|null|null|null|\n",
            "|    max|       WO - OUTPUT|            480261|            2022-04-28 13:18:30|             27815|Space Cake Trials...|             12710|   Space Cake|             1357|203 - Secure storage|            42614|Trimming work ord...|              1162| Trimming Work Order|  2022-04-27 12:40:13|   2022-04-26 9:53:28|              2412|Vegetative Plant ...|             642300|                 g|null|null|null|null|null|null|null|\n",
            "+-------+------------------+------------------+-------------------------------+------------------+--------------------+------------------+-------------+-----------------+--------------------+-----------------+--------------------+------------------+--------------------+---------------------+---------------------+------------------+--------------------+-------------------+------------------+----+----+----+----+----+----+----+\n",
            "\n"
          ]
        }
      ]
    },
    {
      "cell_type": "code",
      "source": [
        ""
      ],
      "metadata": {
        "id": "LWNx7I2ki6Ji"
      },
      "execution_count": null,
      "outputs": []
    }
  ],
  "metadata": {
    "kernelspec": {
      "display_name": "Python 3",
      "language": "python",
      "name": "python3"
    },
    "language_info": {
      "codemirror_mode": {
        "name": "ipython",
        "version": 2
      },
      "file_extension": ".py",
      "mimetype": "text/x-python",
      "name": "python",
      "nbconvert_exporter": "python",
      "pygments_lexer": "ipython2",
      "version": "2.7.6"
    },
    "colab": {
      "name": "Yield Prediction.ipynb",
      "provenance": []
    }
  },
  "nbformat": 4,
  "nbformat_minor": 0
}