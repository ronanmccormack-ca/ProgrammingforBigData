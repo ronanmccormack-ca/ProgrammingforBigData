{
  "cells": [
    {
      "cell_type": "markdown",
      "metadata": {
        "id": "view-in-github",
        "colab_type": "text"
      },
      "source": [
        "<a href=\"https://colab.research.google.com/github/ronanmccormack-ca/ProgrammingforBigData/blob/main/Big%20Data%20Project/Yield%20Prediction.ipynb\" target=\"_parent\"><img src=\"https://colab.research.google.com/assets/colab-badge.svg\" alt=\"Open In Colab\"/></a>"
      ]
    },
    {
      "cell_type": "code",
      "execution_count": 6,
      "metadata": {
        "collapsed": true,
        "id": "DZwuClW8KvqK",
        "colab": {
          "base_uri": "https://localhost:8080/",
          "height": 130
        },
        "outputId": "096cb02a-4bdb-4f3b-e9eb-f90fe45e4e91"
      },
      "outputs": [
        {
          "output_type": "error",
          "ename": "SyntaxError",
          "evalue": "ignored",
          "traceback": [
            "\u001b[0;36m  File \u001b[0;32m\"<ipython-input-6-dfe8581c5ca7>\"\u001b[0;36m, line \u001b[0;32m9\u001b[0m\n\u001b[0;31m    from pyspark.sql.functions import col,\u001b[0m\n\u001b[0m                                     ^\u001b[0m\n\u001b[0;31mSyntaxError\u001b[0m\u001b[0;31m:\u001b[0m trailing comma not allowed without surrounding parentheses\n"
          ]
        }
      ],
      "source": [
        "!apt-get install openjdk-8-jdk-headless -qq > /dev/null\n",
        "!wget -q https://downloads.apache.org/spark/spark-3.0.3/spark-3.0.3-bin-hadoop2.7.tgz\n",
        "!tar xf spark-3.0.3-bin-hadoop2.7.tgz\n",
        "!pip install -q findspark\n",
        "import os\n",
        "os.environ[\"SPARK_HOME\"] = \"/content/spark-3.0.3-bin-hadoop2.7\"\n",
        "import findspark\n",
        "import pandas as pd\n",
        "from pyspark.sql.functions import *\n",
        "findspark.init()"
      ]
    },
    {
      "cell_type": "code",
      "source": [
        "from pyspark.sql import SparkSession\n",
        "spark = SparkSession.builder\\\n",
        "        .master(\"local\")\\\n",
        "        .appName(\"Yield Prediction\")\\\n",
        "        .config('spark.ui.port','4050')\\\n",
        "        .getOrCreate()\n",
        "spark"
      ],
      "metadata": {
        "colab": {
          "base_uri": "https://localhost:8080/",
          "height": 216
        },
        "id": "cz_gWN13LEve",
        "outputId": "23ad871a-a8d4-4992-c93b-949c04a9ee5f"
      },
      "execution_count": 2,
      "outputs": [
        {
          "output_type": "execute_result",
          "data": {
            "text/plain": [
              "<pyspark.sql.session.SparkSession at 0x7f1a51372750>"
            ],
            "text/html": [
              "\n",
              "            <div>\n",
              "                <p><b>SparkSession - in-memory</b></p>\n",
              "                \n",
              "        <div>\n",
              "            <p><b>SparkContext</b></p>\n",
              "\n",
              "            <p><a href=\"http://ed23bb816ee0:4050\">Spark UI</a></p>\n",
              "\n",
              "            <dl>\n",
              "              <dt>Version</dt>\n",
              "                <dd><code>v3.0.3</code></dd>\n",
              "              <dt>Master</dt>\n",
              "                <dd><code>local</code></dd>\n",
              "              <dt>AppName</dt>\n",
              "                <dd><code>Yield Prediction</code></dd>\n",
              "            </dl>\n",
              "        </div>\n",
              "        \n",
              "            </div>\n",
              "        "
            ]
          },
          "metadata": {},
          "execution_count": 2
        }
      ]
    },
    {
      "cell_type": "code",
      "source": [
        "!git clone https://github.com/ronanmccormack-ca/ProgrammingforBigData.git"
      ],
      "metadata": {
        "colab": {
          "base_uri": "https://localhost:8080/"
        },
        "id": "Ex-7Edn8LgGZ",
        "outputId": "615b0b7d-7725-4158-aa30-153995ae1299"
      },
      "execution_count": 3,
      "outputs": [
        {
          "output_type": "stream",
          "name": "stdout",
          "text": [
            "Cloning into 'ProgrammingforBigData'...\n",
            "remote: Enumerating objects: 57, done.\u001b[K\n",
            "remote: Counting objects: 100% (57/57), done.\u001b[K\n",
            "remote: Compressing objects: 100% (54/54), done.\u001b[K\n",
            "remote: Total 57 (delta 15), reused 35 (delta 3), pack-reused 0\u001b[K\n",
            "Unpacking objects: 100% (57/57), done.\n"
          ]
        }
      ]
    },
    {
      "cell_type": "code",
      "source": [
        "df = spark.read.csv('/content/ProgrammingforBigData/Big Data Project/data/inventory_data.csv',header='true',inferSchema=True)"
      ],
      "metadata": {
        "id": "iLRHlY4oh0Z9"
      },
      "execution_count": 4,
      "outputs": []
    },
    {
      "cell_type": "code",
      "source": [
        "df.groupBy(\"batch_id\",\"work_order_type_name\",'substance_type_name').sum('measure_event_value')\\\n",
        ".where((col(\"work_order_type_name\") == 'Drying')&(col(\"substance_type_name\")=='Dried Cannabis')).orderBy('batch_id').show()"
      ],
      "metadata": {
        "colab": {
          "base_uri": "https://localhost:8080/"
        },
        "id": "f9nS5Dh--OA7",
        "outputId": "1436d27c-4a91-4d1d-97e5-d03d7d549fa1"
      },
      "execution_count": 142,
      "outputs": [
        {
          "output_type": "stream",
          "name": "stdout",
          "text": [
            "+--------+--------------------+-------------------+------------------------+\n",
            "|batch_id|work_order_type_name|substance_type_name|sum(measure_event_value)|\n",
            "+--------+--------------------+-------------------+------------------------+\n",
            "|    7246|              Drying|     Dried Cannabis|                   55700|\n",
            "|    9697|              Drying|     Dried Cannabis|                  130662|\n",
            "|   15527|              Drying|     Dried Cannabis|                   51596|\n",
            "|   15528|              Drying|     Dried Cannabis|                    1230|\n",
            "|   15529|              Drying|     Dried Cannabis|                    1148|\n",
            "|   15530|              Drying|     Dried Cannabis|                    2028|\n",
            "|   15531|              Drying|     Dried Cannabis|                     967|\n",
            "|   15532|              Drying|     Dried Cannabis|                    1123|\n",
            "|   15533|              Drying|     Dried Cannabis|                    1845|\n",
            "|   15534|              Drying|     Dried Cannabis|                    2679|\n",
            "|   16037|              Drying|     Dried Cannabis|                   57592|\n",
            "|   22162|              Drying|     Dried Cannabis|                   70248|\n",
            "+--------+--------------------+-------------------+------------------------+\n",
            "\n"
          ]
        }
      ]
    },
    {
      "cell_type": "code",
      "source": [
        "df.select('batch_id','cultivar_id','work_order_type_name','work_order_close_date','substance_type_name','measure_event_value')\\\n",
        ".orderBy('measure_event_value')\\\n",
        ".filter((col('batch_id')==9697)\\\n",
        "        &(col(\"work_order_type_name\")=='Drying')\\\n",
        "        &(col(\"substance_type_name\")=='Dried Cannabis'))\\\n",
        ".show()"
      ],
      "metadata": {
        "colab": {
          "base_uri": "https://localhost:8080/"
        },
        "id": "8ovEXuGh_ND_",
        "outputId": "72c8e504-ed9b-4d82-d5e0-57bfaf21fddd"
      },
      "execution_count": 144,
      "outputs": [
        {
          "output_type": "stream",
          "name": "stdout",
          "text": [
            "+--------+-----------+--------------------+---------------------+-------------------+-------------------+\n",
            "|batch_id|cultivar_id|work_order_type_name|work_order_close_date|substance_type_name|measure_event_value|\n",
            "+--------+-----------+--------------------+---------------------+-------------------+-------------------+\n",
            "|    9697|       4494|              Drying|   2021-07-15 9:39:40|     Dried Cannabis|             130662|\n",
            "+--------+-----------+--------------------+---------------------+-------------------+-------------------+\n",
            "\n"
          ]
        }
      ]
    },
    {
      "cell_type": "code",
      "source": [
        "co2_sensor_1_data = spark.read.csv('/content/ProgrammingforBigData/Big Data Project/data/co2_sensor_1.csv',header='true',inferSchema=True)\n",
        "lux_sensor_1_data = spark.read.csv('/content/ProgrammingforBigData/Big Data Project/data/lux_sensor_1.csv',header='true',inferSchema=True)\n",
        "temp_hum_sensor_1_data = spark.read.csv('/content/ProgrammingforBigData/Big Data Project/data/temp_hum_sensor_1.csv',header='true',inferSchema=True)\n",
        "co2_sensor_2_data = spark.read.csv('/content/ProgrammingforBigData/Big Data Project/data/co2_sensor_2.csv',header='true',inferSchema=True)\n",
        "lux_sensor_2_data = spark.read.csv('/content/ProgrammingforBigData/Big Data Project/data/lux_sensor_2.csv',header='true',inferSchema=True)\n",
        "temp_hum_sensor_2_data = spark.read.csv('/content/ProgrammingforBigData/Big Data Project/data/temp_hum_sensor_2.csv',header='true',inferSchema=True)\n",
        "co2_sensor_3_data = spark.read.csv('/content/ProgrammingforBigData/Big Data Project/data/co2_sensor_3.csv',header='true',inferSchema=True)\n",
        "lux_sensor_3_data = spark.read.csv('/content/ProgrammingforBigData/Big Data Project/data/lux_sensor_3.csv',header='true',inferSchema=True)\n",
        "temp_hum_sensor_3_data = spark.read.csv('/content/ProgrammingforBigData/Big Data Project/data/temp_hum_sensor_3.csv',header='true',inferSchema=True)"
      ],
      "metadata": {
        "id": "8ubAK-QoGgfB"
      },
      "execution_count": 98,
      "outputs": []
    },
    {
      "cell_type": "code",
      "source": [
        "lux_sensor_1_data.withColumn(\"ts\",to_timestamp(col(\"Date\"))) \\\n",
        "  .withColumn(\"datetype\",to_date(col(\"ts\"))) \\\n",
        "  .groupBy('datetype').agg(mean('Value').alias('lux_sensor_1_mean'))\\\n",
        "  .filter((col('datetype')<='2021-07-15')&(col('datetype')>='2021-04-15'))\\\n",
        "  .join(lux_sensor_2_data.withColumn(\"ts\",to_timestamp(col(\"Date\"))) \\\n",
        "  .withColumn(\"datetype\",to_date(col(\"ts\"))) \\\n",
        "  .groupBy('datetype').agg(mean('Value').alias('lux_sensor_2_mean'))\\\n",
        "  .filter((col('datetype')<='2021-07-15')&(col('datetype')>='2021-04-15'))\\\n",
        "  ,on='datetype')\\\n",
        "  .join(lux_sensor_3_data.withColumn(\"ts\",to_timestamp(col(\"Date\"))) \\\n",
        "  .withColumn(\"datetype\",to_date(col(\"ts\"))) \\\n",
        "  .groupBy('datetype').agg(mean('Value').alias('lux_sensor_3_mean'))\\\n",
        "  .filter((col('datetype')<='2021-07-15')&(col('datetype')>='2021-04-15'))\\\n",
        "  ,on='datetype')\\\n",
        "  .join(co2_sensor_1_data.withColumn(\"ts\",to_timestamp(col(\"Date\"))) \\\n",
        "  .withColumn(\"datetype\",to_date(col(\"ts\"))) \\\n",
        "  .groupBy('datetype').agg(mean('Value').alias('co2_sensor_1_mean'))\\\n",
        "  .filter((col('datetype')<='2021-07-15')&(col('datetype')>='2021-04-15'))\\\n",
        "  ,on='datetype')\\\n",
        "  .join(co2_sensor_2_data.withColumn(\"ts\",to_timestamp(col(\"Date\"))) \\\n",
        "  .withColumn(\"datetype\",to_date(col(\"ts\"))) \\\n",
        "  .groupBy('datetype').agg(mean('Value').alias('co2_sensor_2_mean'))\\\n",
        "  .filter((col('datetype')<='2021-07-15')&(col('datetype')>='2021-04-15'))\\\n",
        "  ,on='datetype')\\\n",
        "  .join(co2_sensor_3_data.withColumn(\"ts\",to_timestamp(col(\"Date\"))) \\\n",
        "  .withColumn(\"datetype\",to_date(col(\"ts\"))) \\\n",
        "  .groupBy('datetype').agg(mean('Value').alias('co2_sensor_3_mean'))\\\n",
        "  .filter((col('datetype')<='2021-07-15')&(col('datetype')>='2021-04-15'))\\\n",
        "  ,on='datetype')\\\n",
        "  .join(temp_hum_sensor_1_data.withColumn(\"ts\",to_timestamp(col(\"Date\"))) \\\n",
        "  .withColumn(\"datetype\",to_date(col(\"ts\"))) \\\n",
        "  .groupBy('datetype').agg(mean('Value').alias('temp_hum_sensor_1_mean'))\\\n",
        "  .filter((col('datetype')<='2021-07-15')&(col('datetype')>='2021-04-15'))\\\n",
        "  ,on='datetype')\\\n",
        "  .join(temp_hum_sensor_2_data.withColumn(\"ts\",to_timestamp(col(\"Date\"))) \\\n",
        "  .withColumn(\"datetype\",to_date(col(\"ts\"))) \\\n",
        "  .groupBy('datetype').agg(mean('Value').alias('temp_hum_sensor_2_mean'))\\\n",
        "  .filter((col('datetype')<='2021-07-15')&(col('datetype')>='2021-04-15'))\\\n",
        "  ,on='datetype')\\\n",
        "  .join(temp_hum_sensor_3_data.withColumn(\"ts\",to_timestamp(col(\"Date\"))) \\\n",
        "  .withColumn(\"datetype\",to_date(col(\"ts\"))) \\\n",
        "  .groupBy('datetype').agg(mean('Value').alias('temp_hum_sensor_3_mean'))\\\n",
        "  .filter((col('datetype')<='2021-07-15')&(col('datetype')>='2021-04-15'))\\\n",
        "  ,on='datetype')\\\n",
        "  .sort('datetype',ascending=True)\\\n",
        "  .show(truncate=False)"
      ],
      "metadata": {
        "colab": {
          "base_uri": "https://localhost:8080/"
        },
        "id": "36F46iAnTwoF",
        "outputId": "aea5a0a6-001c-4bde-f3b8-31015e7d4af6"
      },
      "execution_count": 148,
      "outputs": [
        {
          "output_type": "stream",
          "name": "stdout",
          "text": [
            "+----------+------------------+------------------+------------------+-----------------+-----------------+------------------+----------------------+----------------------+----------------------+\n",
            "|datetype  |lux_sensor_1_mean |lux_sensor_2_mean |lux_sensor_3_mean |co2_sensor_1_mean|co2_sensor_2_mean|co2_sensor_3_mean |temp_hum_sensor_1_mean|temp_hum_sensor_2_mean|temp_hum_sensor_3_mean|\n",
            "+----------+------------------+------------------+------------------+-----------------+-----------------+------------------+----------------------+----------------------+----------------------+\n",
            "|2021-04-15|2860.8819444444443|2232.8611111111113|5179.694444444444 |860.5347222222222|894.6875         |525.7222222222222 |58.956388888888846    |69.34562500000001     |68.77645833333332     |\n",
            "|2021-04-16|2912.1111111111113|2309.909722222222 |5201.263888888889 |838.2291666666666|874.8472222222222|576.7847222222222 |58.103333333333325    |63.56611111111109     |64.71840277777781     |\n",
            "|2021-04-17|2895.784722222222 |2305.3194444444443|5194.513888888889 |855.9375         |875.7361111111111|471.1041666666667 |58.75111111111112     |67.43326388888889     |64.26930555555558     |\n",
            "|2021-04-18|2872.527777777778 |2291.4583333333335|5166.465277777777 |831.4930555555555|852.5763888888889|330.50694444444446|58.63291666666665     |65.95944444444447     |64.18472222222222     |\n",
            "|2021-04-19|2857.1736111111113|2257.2361111111113|5234.527777777777 |827.8263888888889|847.9236111111111|287.8541666666667 |58.74819444444443     |66.02097222222223     |64.75069444444449     |\n",
            "|2021-04-20|2849.3541666666665|2241.3819444444443|5207.152777777777 |832.9236111111111|866.6458333333334|266.99305555555554|58.3675               |69.22888888888889     |65.73680555555555     |\n",
            "|2021-04-21|2826.4861111111113|2216.7430555555557|5171.430555555556 |794.5347222222222|835.0069444444445|240.63888888888889|58.16833333333333     |64.93243055555557     |65.7707638888889      |\n",
            "|2021-04-22|3032.375          |2371.2638888888887|5210.902777777777 |851.7708333333334|866.6180555555555|245.77083333333334|58.77249999999997     |64.26972222222224     |62.20430555555559     |\n",
            "|2021-04-23|4892.520833333333 |4016.3263888888887|5164.458333333333 |838.0416666666666|876.6388888888889|179.61111111111111|58.376041666666666    |65.89069444444438     |62.46                 |\n",
            "|2021-04-24|4887.472222222223 |3968.1041666666665|5153.069444444444 |800.0486111111111|833.0416666666666|156.36111111111111|57.70833333333334     |66.11763888888889     |62.14784722222222     |\n",
            "|2021-04-25|4939.798611111111 |3986.597222222222 |5212.493055555556 |745.0625         |747.1458333333334|634.1041666666666 |58.448402777777765    |65.92604166666666     |63.10048611111112     |\n",
            "|2021-04-26|4808.138888888889 |3887.4166666666665|5244.861111111111 |668.4513888888889|670.5208333333334|1253.6666666666667|57.51006993006992     |67.20465277777778     |60.536041666666684    |\n",
            "|2021-04-27|4569.666666666667 |3847.527777777778 |3458.2708333333335|788.6944444444445|767.5694444444445|1416.6319444444443|51.036041666666655    |58.193472222222226    |60.82277777777776     |\n",
            "|2021-04-28|4160.090277777777 |3622.090277777778 |15.319444444444445|560.2638888888889|551.8402777777778|1571.2291666666667|45.26854166666663     |49.082499999999996    |61.159652777777765    |\n",
            "|2021-04-29|7063.089743589743 |6369.434210526316 |18.628205128205128|538.8395061728395|527.7179487179487|1723.3076923076924|43.5590243902439      |48.105662650602405    |63.20740740740741     |\n",
            "|2021-04-30|18633.47619047619 |148.88095238095238|9960.095238095239 |667.9285714285714|713.047619047619 |674.1666666666666 |54.697142857142865    |55.92595238095238     |55.69190476190476     |\n",
            "|2021-05-01|13884.194444444445|102.40972222222223|7115.416666666667 |746.4097222222222|775.2638888888889|724.9305555555555 |55.92666666666665     |56.69388888888886     |56.529722222222205    |\n",
            "|2021-05-02|13755.138888888889|63.4375           |6819.25           |794.6388888888889|839.0555555555555|788.8194444444445 |55.3234722222222      |56.08374999999998     |56.115555555555574    |\n",
            "|2021-05-03|9186.729166666666 |1545.701388888889 |6877.048611111111 |770.2847222222222|812.7013888888889|759.0972222222222 |56.74173611111109     |57.92388888888887     |57.63868055555555     |\n",
            "|2021-05-04|4336.409722222223 |2721.659722222222 |6707.736111111111 |806.625          |866.6319444444445|803.0694444444445 |57.40395833333335     |59.21826388888888     |58.102083333333326    |\n",
            "+----------+------------------+------------------+------------------+-----------------+-----------------+------------------+----------------------+----------------------+----------------------+\n",
            "only showing top 20 rows\n",
            "\n"
          ]
        }
      ]
    },
    {
      "cell_type": "code",
      "source": [
        ""
      ],
      "metadata": {
        "id": "SH10mEU1KObz"
      },
      "execution_count": null,
      "outputs": []
    }
  ],
  "metadata": {
    "kernelspec": {
      "display_name": "Python 3",
      "language": "python",
      "name": "python3"
    },
    "language_info": {
      "codemirror_mode": {
        "name": "ipython",
        "version": 2
      },
      "file_extension": ".py",
      "mimetype": "text/x-python",
      "name": "python",
      "nbconvert_exporter": "python",
      "pygments_lexer": "ipython2",
      "version": "2.7.6"
    },
    "colab": {
      "name": "Yield Prediction.ipynb",
      "provenance": [],
      "include_colab_link": true
    }
  },
  "nbformat": 4,
  "nbformat_minor": 0
}