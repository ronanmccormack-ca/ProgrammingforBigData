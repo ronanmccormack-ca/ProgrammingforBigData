{
  "cells": [
    {
      "cell_type": "markdown",
      "metadata": {
        "id": "view-in-github",
        "colab_type": "text"
      },
      "source": [
        "<a href=\"https://colab.research.google.com/github/ronanmccormack-ca/ProgrammingforBigData/blob/main/Big%20Data%20Project/Yield%20Prediction.ipynb\" target=\"_parent\"><img src=\"https://colab.research.google.com/assets/colab-badge.svg\" alt=\"Open In Colab\"/></a>"
      ]
    },
    {
      "cell_type": "code",
      "execution_count": 6,
      "metadata": {
        "collapsed": true,
        "id": "DZwuClW8KvqK",
        "colab": {
          "base_uri": "https://localhost:8080/",
          "height": 130
        },
        "outputId": "096cb02a-4bdb-4f3b-e9eb-f90fe45e4e91"
      },
      "outputs": [
        {
          "output_type": "error",
          "ename": "SyntaxError",
          "evalue": "ignored",
          "traceback": [
            "\u001b[0;36m  File \u001b[0;32m\"<ipython-input-6-dfe8581c5ca7>\"\u001b[0;36m, line \u001b[0;32m9\u001b[0m\n\u001b[0;31m    from pyspark.sql.functions import col,\u001b[0m\n\u001b[0m                                     ^\u001b[0m\n\u001b[0;31mSyntaxError\u001b[0m\u001b[0;31m:\u001b[0m trailing comma not allowed without surrounding parentheses\n"
          ]
        }
      ],
      "source": [
        "!apt-get install openjdk-8-jdk-headless -qq > /dev/null\n",
        "!wget -q https://downloads.apache.org/spark/spark-3.0.3/spark-3.0.3-bin-hadoop2.7.tgz\n",
        "!tar xf spark-3.0.3-bin-hadoop2.7.tgz\n",
        "!pip install -q findspark\n",
        "import os\n",
        "os.environ[\"SPARK_HOME\"] = \"/content/spark-3.0.3-bin-hadoop2.7\"\n",
        "import findspark\n",
        "import pandas as pd\n",
        "from pyspark.sql.functions import *\n",
        "findspark.init()"
      ]
    },
    {
      "cell_type": "code",
      "source": [
        "from pyspark.sql import SparkSession\n",
        "spark = SparkSession.builder\\\n",
        "        .master(\"local\")\\\n",
        "        .appName(\"Yield Prediction\")\\\n",
        "        .config('spark.ui.port','4050')\\\n",
        "        .getOrCreate()\n",
        "spark"
      ],
      "metadata": {
        "colab": {
          "base_uri": "https://localhost:8080/",
          "height": 216
        },
        "id": "cz_gWN13LEve",
        "outputId": "23ad871a-a8d4-4992-c93b-949c04a9ee5f"
      },
      "execution_count": 2,
      "outputs": [
        {
          "output_type": "execute_result",
          "data": {
            "text/plain": [
              "<pyspark.sql.session.SparkSession at 0x7f1a51372750>"
            ],
            "text/html": [
              "\n",
              "            <div>\n",
              "                <p><b>SparkSession - in-memory</b></p>\n",
              "                \n",
              "        <div>\n",
              "            <p><b>SparkContext</b></p>\n",
              "\n",
              "            <p><a href=\"http://ed23bb816ee0:4050\">Spark UI</a></p>\n",
              "\n",
              "            <dl>\n",
              "              <dt>Version</dt>\n",
              "                <dd><code>v3.0.3</code></dd>\n",
              "              <dt>Master</dt>\n",
              "                <dd><code>local</code></dd>\n",
              "              <dt>AppName</dt>\n",
              "                <dd><code>Yield Prediction</code></dd>\n",
              "            </dl>\n",
              "        </div>\n",
              "        \n",
              "            </div>\n",
              "        "
            ]
          },
          "metadata": {},
          "execution_count": 2
        }
      ]
    },
    {
      "cell_type": "code",
      "source": [
        "!git clone https://github.com/ronanmccormack-ca/ProgrammingforBigData.git"
      ],
      "metadata": {
        "colab": {
          "base_uri": "https://localhost:8080/"
        },
        "id": "Ex-7Edn8LgGZ",
        "outputId": "615b0b7d-7725-4158-aa30-153995ae1299"
      },
      "execution_count": 3,
      "outputs": [
        {
          "output_type": "stream",
          "name": "stdout",
          "text": [
            "Cloning into 'ProgrammingforBigData'...\n",
            "remote: Enumerating objects: 57, done.\u001b[K\n",
            "remote: Counting objects: 100% (57/57), done.\u001b[K\n",
            "remote: Compressing objects: 100% (54/54), done.\u001b[K\n",
            "remote: Total 57 (delta 15), reused 35 (delta 3), pack-reused 0\u001b[K\n",
            "Unpacking objects: 100% (57/57), done.\n"
          ]
        }
      ]
    },
    {
      "cell_type": "code",
      "source": [
        "df = spark.read.csv('/content/ProgrammingforBigData/Big Data Project/data/inventory_data.csv',header='true',inferSchema=True)"
      ],
      "metadata": {
        "id": "iLRHlY4oh0Z9"
      },
      "execution_count": 4,
      "outputs": []
    },
    {
      "cell_type": "code",
      "source": [
        "df.groupBy(\"batch_id\",\"work_order_type_name\",'substance_type_name').sum('measure_event_value')\\\n",
        ".where((col(\"work_order_type_name\") == 'Drying')&(col(\"substance_type_name\")=='Dried Cannabis')).orderBy('batch_id').show()"
      ],
      "metadata": {
        "colab": {
          "base_uri": "https://localhost:8080/"
        },
        "id": "f9nS5Dh--OA7",
        "outputId": "1436d27c-4a91-4d1d-97e5-d03d7d549fa1"
      },
      "execution_count": 142,
      "outputs": [
        {
          "output_type": "stream",
          "name": "stdout",
          "text": [
            "+--------+--------------------+-------------------+------------------------+\n",
            "|batch_id|work_order_type_name|substance_type_name|sum(measure_event_value)|\n",
            "+--------+--------------------+-------------------+------------------------+\n",
            "|    7246|              Drying|     Dried Cannabis|                   55700|\n",
            "|    9697|              Drying|     Dried Cannabis|                  130662|\n",
            "|   15527|              Drying|     Dried Cannabis|                   51596|\n",
            "|   15528|              Drying|     Dried Cannabis|                    1230|\n",
            "|   15529|              Drying|     Dried Cannabis|                    1148|\n",
            "|   15530|              Drying|     Dried Cannabis|                    2028|\n",
            "|   15531|              Drying|     Dried Cannabis|                     967|\n",
            "|   15532|              Drying|     Dried Cannabis|                    1123|\n",
            "|   15533|              Drying|     Dried Cannabis|                    1845|\n",
            "|   15534|              Drying|     Dried Cannabis|                    2679|\n",
            "|   16037|              Drying|     Dried Cannabis|                   57592|\n",
            "|   22162|              Drying|     Dried Cannabis|                   70248|\n",
            "+--------+--------------------+-------------------+------------------------+\n",
            "\n"
          ]
        }
      ]
    },
    {
      "cell_type": "code",
      "source": [
        "df.select('batch_id','cultivar_id','work_order_type_name','work_order_close_date','substance_type_name','measure_event_value')\\\n",
        ".orderBy('measure_event_value')\\\n",
        ".filter((col('batch_id')==9697)\\\n",
        "        &(col(\"work_order_type_name\")=='Drying')\\\n",
        "        &(col(\"substance_type_name\")=='Dried Cannabis'))\\\n",
        ".show()"
      ],
      "metadata": {
        "colab": {
          "base_uri": "https://localhost:8080/"
        },
        "id": "8ovEXuGh_ND_",
        "outputId": "72c8e504-ed9b-4d82-d5e0-57bfaf21fddd"
      },
      "execution_count": 144,
      "outputs": [
        {
          "output_type": "stream",
          "name": "stdout",
          "text": [
            "+--------+-----------+--------------------+---------------------+-------------------+-------------------+\n",
            "|batch_id|cultivar_id|work_order_type_name|work_order_close_date|substance_type_name|measure_event_value|\n",
            "+--------+-----------+--------------------+---------------------+-------------------+-------------------+\n",
            "|    9697|       4494|              Drying|   2021-07-15 9:39:40|     Dried Cannabis|             130662|\n",
            "+--------+-----------+--------------------+---------------------+-------------------+-------------------+\n",
            "\n"
          ]
        }
      ]
    },
    {
      "cell_type": "code",
      "source": [
        "co2_sensor_1_data = spark.read.csv('/content/ProgrammingforBigData/Big Data Project/data/co2_sensor_1.csv',header='true',inferSchema=True)\n",
        "lux_sensor_1_data = spark.read.csv('/content/ProgrammingforBigData/Big Data Project/data/lux_sensor_1.csv',header='true',inferSchema=True)\n",
        "temp_hum_sensor_1_data = spark.read.csv('/content/ProgrammingforBigData/Big Data Project/data/temp_hum_sensor_1.csv',header='true',inferSchema=True)\n",
        "co2_sensor_2_data = spark.read.csv('/content/ProgrammingforBigData/Big Data Project/data/co2_sensor_2.csv',header='true',inferSchema=True)\n",
        "lux_sensor_2_data = spark.read.csv('/content/ProgrammingforBigData/Big Data Project/data/lux_sensor_2.csv',header='true',inferSchema=True)\n",
        "temp_hum_sensor_2_data = spark.read.csv('/content/ProgrammingforBigData/Big Data Project/data/temp_hum_sensor_2.csv',header='true',inferSchema=True)\n",
        "co2_sensor_3_data = spark.read.csv('/content/ProgrammingforBigData/Big Data Project/data/co2_sensor_3.csv',header='true',inferSchema=True)\n",
        "lux_sensor_3_data = spark.read.csv('/content/ProgrammingforBigData/Big Data Project/data/lux_sensor_3.csv',header='true',inferSchema=True)\n",
        "temp_hum_sensor_3_data = spark.read.csv('/content/ProgrammingforBigData/Big Data Project/data/temp_hum_sensor_3.csv',header='true',inferSchema=True)"
      ],
      "metadata": {
        "id": "8ubAK-QoGgfB"
      },
      "execution_count": 98,
      "outputs": []
    },
    {
      "cell_type": "code",
      "source": [
        "lux_sensor_1_data.withColumn(\"ts\",to_timestamp(col(\"Date\"))) \\\n",
        "  .withColumn(\"datetype\",to_date(col(\"ts\"))) \\\n",
        "  .groupBy('datetype').agg(mean('Value').alias('lux_sensor_1_mean'))\\\n",
        "  .filter((col('datetype')<='2021-07-15')&(col('datetype')>='2021-04-15'))\\\n",
        "  .join(co2_sensor_1_data.withColumn(\"ts\",to_timestamp(col(\"Date\"))) \\\n",
        "  .withColumn(\"datetype\",to_date(col(\"ts\"))) \\\n",
        "  .groupBy('datetype').agg(mean('Value').alias('co2_sensor_1_mean'))\\\n",
        "  .filter((col('datetype')<='2021-07-15')&(col('datetype')>='2021-04-15'))\\\n",
        "  ,on='datetype')\\\n",
        "  .join(temp_hum_sensor_1_data.withColumn(\"ts\",to_timestamp(col(\"Date\"))) \\\n",
        "  .withColumn(\"datetype\",to_date(col(\"ts\"))) \\\n",
        "  .groupBy('datetype').agg(mean('Value').alias('temp_hum_sensor_1_mean'))\\\n",
        "  .filter((col('datetype')<='2021-07-15')&(col('datetype')>='2021-04-15'))\\\n",
        "  ,on='datetype')\\\n",
        "  .join(lux_sensor_2_data.withColumn(\"ts\",to_timestamp(col(\"Date\"))) \\\n",
        "  .withColumn(\"datetype\",to_date(col(\"ts\"))) \\\n",
        "  .groupBy('datetype').agg(mean('Value').alias('lux_sensor_2_mean'))\\\n",
        "  .filter((col('datetype')<='2021-07-15')&(col('datetype')>='2021-04-15'))\\\n",
        "  ,on='datetype')\\\n",
        "  .join(co2_sensor_2_data.withColumn(\"ts\",to_timestamp(col(\"Date\"))) \\\n",
        "  .withColumn(\"datetype\",to_date(col(\"ts\"))) \\\n",
        "  .groupBy('datetype').agg(mean('Value').alias('co2_sensor_2_mean'))\\\n",
        "  .filter((col('datetype')<='2021-07-15')&(col('datetype')>='2021-04-15'))\\\n",
        "  ,on='datetype')\\\n",
        "  .join(temp_hum_sensor_2_data.withColumn(\"ts\",to_timestamp(col(\"Date\"))) \\\n",
        "  .withColumn(\"datetype\",to_date(col(\"ts\"))) \\\n",
        "  .groupBy('datetype').agg(mean('Value').alias('temp_hum_sensor_2_mean'))\\\n",
        "  .filter((col('datetype')<='2021-07-15')&(col('datetype')>='2021-04-15'))\\\n",
        "  ,on='datetype')\\\n",
        "  .sort('datetype',ascending=True)\\\n",
        "  .show(truncate=False)"
      ],
      "metadata": {
        "colab": {
          "base_uri": "https://localhost:8080/"
        },
        "id": "36F46iAnTwoF",
        "outputId": "33289536-0c67-48c8-fb55-a0490b3c84f9"
      },
      "execution_count": 103,
      "outputs": [
        {
          "output_type": "stream",
          "name": "stdout",
          "text": [
            "+----------+------------------+-----------------+----------------------+------------------+-----------------+----------------------+\n",
            "|datetype  |lux_sensor_1_mean |co2_sensor_1_mean|temp_hum_sensor_1_mean|lux_sensor_2_mean |co2_sensor_2_mean|temp_hum_sensor_2_mean|\n",
            "+----------+------------------+-----------------+----------------------+------------------+-----------------+----------------------+\n",
            "|2021-04-15|2860.8819444444443|860.5347222222222|58.956388888888846    |2232.8611111111113|894.6875         |69.34562500000001     |\n",
            "|2021-04-16|2912.1111111111113|838.2291666666666|58.103333333333325    |2309.909722222222 |874.8472222222222|63.56611111111109     |\n",
            "|2021-04-17|2895.784722222222 |855.9375         |58.75111111111112     |2305.3194444444443|875.7361111111111|67.43326388888889     |\n",
            "|2021-04-18|2872.527777777778 |831.4930555555555|58.63291666666665     |2291.4583333333335|852.5763888888889|65.95944444444447     |\n",
            "|2021-04-19|2857.1736111111113|827.8263888888889|58.74819444444443     |2257.2361111111113|847.9236111111111|66.02097222222223     |\n",
            "|2021-04-20|2849.3541666666665|832.9236111111111|58.3675               |2241.3819444444443|866.6458333333334|69.22888888888889     |\n",
            "|2021-04-21|2826.4861111111113|794.5347222222222|58.16833333333333     |2216.7430555555557|835.0069444444445|64.93243055555557     |\n",
            "|2021-04-22|3032.375          |851.7708333333334|58.77249999999997     |2371.2638888888887|866.6180555555555|64.26972222222224     |\n",
            "|2021-04-23|4892.520833333333 |838.0416666666666|58.376041666666666    |4016.3263888888887|876.6388888888889|65.89069444444438     |\n",
            "|2021-04-24|4887.472222222223 |800.0486111111111|57.70833333333334     |3968.1041666666665|833.0416666666666|66.11763888888889     |\n",
            "|2021-04-25|4939.798611111111 |745.0625         |58.448402777777765    |3986.597222222222 |747.1458333333334|65.92604166666666     |\n",
            "|2021-04-26|4808.138888888889 |668.4513888888889|57.51006993006992     |3887.4166666666665|670.5208333333334|67.20465277777778     |\n",
            "|2021-04-27|4569.666666666667 |788.6944444444445|51.036041666666655    |3847.527777777778 |767.5694444444445|58.193472222222226    |\n",
            "|2021-04-28|4160.090277777777 |560.2638888888889|45.26854166666663     |3622.090277777778 |551.8402777777778|49.082499999999996    |\n",
            "|2021-04-29|7063.089743589743 |538.8395061728395|43.5590243902439      |6369.434210526316 |527.7179487179487|48.105662650602405    |\n",
            "|2021-04-30|18633.47619047619 |667.9285714285714|54.697142857142865    |148.88095238095238|713.047619047619 |55.92595238095238     |\n",
            "|2021-05-01|13884.194444444445|746.4097222222222|55.92666666666665     |102.40972222222223|775.2638888888889|56.69388888888886     |\n",
            "|2021-05-02|13755.138888888889|794.6388888888889|55.3234722222222      |63.4375           |839.0555555555555|56.08374999999998     |\n",
            "|2021-05-03|9186.729166666666 |770.2847222222222|56.74173611111109     |1545.701388888889 |812.7013888888889|57.92388888888887     |\n",
            "|2021-05-04|4336.409722222223 |806.625          |57.40395833333335     |2721.659722222222 |866.6319444444445|59.21826388888888     |\n",
            "+----------+------------------+-----------------+----------------------+------------------+-----------------+----------------------+\n",
            "only showing top 20 rows\n",
            "\n"
          ]
        }
      ]
    },
    {
      "cell_type": "code",
      "source": [
        ""
      ],
      "metadata": {
        "id": "SH10mEU1KObz"
      },
      "execution_count": null,
      "outputs": []
    }
  ],
  "metadata": {
    "kernelspec": {
      "display_name": "Python 3",
      "language": "python",
      "name": "python3"
    },
    "language_info": {
      "codemirror_mode": {
        "name": "ipython",
        "version": 2
      },
      "file_extension": ".py",
      "mimetype": "text/x-python",
      "name": "python",
      "nbconvert_exporter": "python",
      "pygments_lexer": "ipython2",
      "version": "2.7.6"
    },
    "colab": {
      "name": "Yield Prediction.ipynb",
      "provenance": [],
      "include_colab_link": true
    }
  },
  "nbformat": 4,
  "nbformat_minor": 0
}