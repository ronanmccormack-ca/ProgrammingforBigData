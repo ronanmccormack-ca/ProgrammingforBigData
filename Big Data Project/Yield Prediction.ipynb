{
  "cells": [
    {
      "cell_type": "code",
      "execution_count": 6,
      "metadata": {
        "collapsed": true,
        "id": "DZwuClW8KvqK"
      },
      "outputs": [],
      "source": [
        "!apt-get install openjdk-8-jdk-headless -qq > /dev/null\n",
        "!wget -q https://downloads.apache.org/spark/spark-3.0.3/spark-3.0.3-bin-hadoop2.7.tgz\n",
        "!tar xf spark-3.0.3-bin-hadoop2.7.tgz\n",
        "!pip install -q findspark\n",
        "import os\n",
        "os.environ[\"SPARK_HOME\"] = \"/content/spark-3.0.3-bin-hadoop2.7\"\n",
        "import findspark\n",
        "import pandas as pd\n",
        "findspark.init()"
      ]
    },
    {
      "cell_type": "code",
      "source": [
        "from pyspark.sql import SparkSession\n",
        "spark = SparkSession.builder\\\n",
        "        .master(\"local\")\\\n",
        "        .appName(\"Yield Prediction\")\\\n",
        "        .config('spark.ui.port','4050')\\\n",
        "        .getOrCreate()\n",
        "spark"
      ],
      "metadata": {
        "colab": {
          "base_uri": "https://localhost:8080/",
          "height": 216
        },
        "id": "cz_gWN13LEve",
        "outputId": "a88a186d-24cd-4398-d845-3bef44fcc1df"
      },
      "execution_count": 2,
      "outputs": [
        {
          "output_type": "execute_result",
          "data": {
            "text/plain": [
              "<pyspark.sql.session.SparkSession at 0x7f3395e96050>"
            ],
            "text/html": [
              "\n",
              "            <div>\n",
              "                <p><b>SparkSession - in-memory</b></p>\n",
              "                \n",
              "        <div>\n",
              "            <p><b>SparkContext</b></p>\n",
              "\n",
              "            <p><a href=\"http://eb2b31c73e7b:4050\">Spark UI</a></p>\n",
              "\n",
              "            <dl>\n",
              "              <dt>Version</dt>\n",
              "                <dd><code>v3.0.3</code></dd>\n",
              "              <dt>Master</dt>\n",
              "                <dd><code>local</code></dd>\n",
              "              <dt>AppName</dt>\n",
              "                <dd><code>Yield Prediction</code></dd>\n",
              "            </dl>\n",
              "        </div>\n",
              "        \n",
              "            </div>\n",
              "        "
            ]
          },
          "metadata": {},
          "execution_count": 2
        }
      ]
    },
    {
      "cell_type": "code",
      "source": [
        "!git clone https://github.com/ronanmccormack-ca/ProgrammingforBigData.git"
      ],
      "metadata": {
        "colab": {
          "base_uri": "https://localhost:8080/"
        },
        "id": "Ex-7Edn8LgGZ",
        "outputId": "ec28ec88-8e12-466e-c743-62d2653d9777"
      },
      "execution_count": 3,
      "outputs": [
        {
          "output_type": "stream",
          "name": "stdout",
          "text": [
            "fatal: destination path 'ProgrammingforBigData' already exists and is not an empty directory.\n"
          ]
        }
      ]
    },
    {
      "cell_type": "code",
      "source": [
        "df = spark.read.csv('/content/ProgrammingforBigData/Big Data Project/data/inventory_data.csv',header='true',inferSchema=True)"
      ],
      "metadata": {
        "id": "iLRHlY4oh0Z9"
      },
      "execution_count": 45,
      "outputs": []
    },
    {
      "cell_type": "code",
      "source": [
        "df.groupBy(\"batch_id\",\"work_order_type_name\").sum('measure_event_value')\\\n",
        ".where((col(\"work_order_type_name\") == 'Drying')).show()"
      ],
      "metadata": {
        "colab": {
          "base_uri": "https://localhost:8080/"
        },
        "id": "f9nS5Dh--OA7",
        "outputId": "97c5add5-aa1f-4822-96d4-18e578ce9ff2"
      },
      "execution_count": 114,
      "outputs": [
        {
          "output_type": "stream",
          "name": "stdout",
          "text": [
            "+--------+--------------------+------------------------+\n",
            "|batch_id|work_order_type_name|sum(measure_event_value)|\n",
            "+--------+--------------------+------------------------+\n",
            "|   22162|              Drying|                  405262|\n",
            "|   15528|              Drying|                    6494|\n",
            "|   15531|              Drying|                    5317|\n",
            "|   15534|              Drying|                   14453|\n",
            "|    9697|              Drying|                  772962|\n",
            "|   15533|              Drying|                   10459|\n",
            "|   15529|              Drying|                    5086|\n",
            "|   15527|              Drying|                  287328|\n",
            "|    7246|              Drying|                  369300|\n",
            "|   15530|              Drying|                   11160|\n",
            "|   16037|              Drying|                  350202|\n",
            "|   15532|              Drying|                    6563|\n",
            "+--------+--------------------+------------------------+\n",
            "\n"
          ]
        }
      ]
    },
    {
      "cell_type": "code",
      "source": [
        "df.filter(col('batch_id')==9697).show()"
      ],
      "metadata": {
        "colab": {
          "base_uri": "https://localhost:8080/"
        },
        "id": "8ovEXuGh_ND_",
        "outputId": "86b7e8b6-7641-41df-ca0f-9e3723678077"
      },
      "execution_count": 100,
      "outputs": [
        {
          "output_type": "stream",
          "name": "stdout",
          "text": [
            "+------------------+----------------+-------------------------------+--------+---------------+-----------+-------------+-----------+-------------+-------------+--------------------+------------------+--------------------+---------------------+---------------------+-----------------+--------------------+-------------------+------------------+----+----+----+----+----+----+----+\n",
            "|measure_event_type|measure_event_id|measure_event_performed_on_date|batch_id|     batch_name|cultivar_id|cultivar_name|location_id|location_name|work_order_id|     work_order_name|work_order_type_id|work_order_type_name|work_order_start_date|work_order_close_date|substance_type_id| substance_type_name|measure_event_value|measure_event_unit|_c19|_c20|_c21|_c22|_c23|_c24|_c25|\n",
            "+------------------+----------------+-------------------------------+--------+---------------+-----------+-------------+-----------+-------------+-------------+--------------------+------------------+--------------------+---------------------+---------------------+-----------------+--------------------+-------------------+------------------+----+----+----+----+----+----+----+\n",
            "|        WO - INPUT|          130918|             2021-06-28 9:35:25|    9697|BLP5 - 03/09/21|       4494| Blue Lime Pi|       null|         null|         9494|BLP5 - 03/09/21  ...|               446|              Drying|   2021-06-28 9:34:55|   2021-07-15 9:39:40|              762|      Fresh Cannabis|             642300|                 g|null|null|null|null|null|null|null|\n",
            "|       WO - OUTPUT|          130921|             2021-07-15 9:36:39|    9697|BLP5 - 03/09/21|       4494| Blue Lime Pi|       null|         null|         9494|BLP5 - 03/09/21  ...|               446|              Drying|   2021-06-28 9:34:55|   2021-07-15 9:39:40|              819|      Dried Cannabis|             130662|                 g|null|null|null|null|null|null|null|\n",
            "|       WO - OUTPUT|          119725|             2021-06-30 9:25:03|    9697|BLP5 - 03/09/21|       4494| Blue Lime Pi|       null|         null|         7892|BLP5 - 03/09/21  ...|               430|             Harvest|   2021-06-28 9:23:23|   2021-07-02 9:28:21|              762|      Fresh Cannabis|             642300|                 g|null|null|null|null|null|null|null|\n",
            "|  WO - DESTRUCTION|          119726|            2021-06-30 14:27:50|    9697|BLP5 - 03/09/21|       4494| Blue Lime Pi|       null|         null|         7892|BLP5 - 03/09/21  ...|               430|             Harvest|   2021-06-28 9:23:23|   2021-07-02 9:28:21|              763|Fresh Cannabis Waste|               2200|                 g|null|null|null|null|null|null|null|\n",
            "|       DESTRUCTION|          114662|            2021-06-22 12:50:22|    9697|BLP5 - 03/09/21|       4494| Blue Lime Pi|       null|         null|         null|                null|              null|                null|                 null|                 null|              763|Fresh Cannabis Waste|              12000|                 g|null|null|null|null|null|null|null|\n",
            "|       DESTRUCTION|          105065|             2021-06-08 8:49:20|    9697|BLP5 - 03/09/21|       4494| Blue Lime Pi|       null|         null|         null|                null|              null|                null|                 null|                 null|              763|Fresh Cannabis Waste|              80400|                 g|null|null|null|null|null|null|null|\n",
            "|       DESTRUCTION|           77980|            2021-04-28 11:22:07|    9697|BLP5 - 03/09/21|       4494| Blue Lime Pi|       null|         null|         null|                null|              null|                null|                 null|                 null|              763|Fresh Cannabis Waste|               1200|                 g|null|null|null|null|null|null|null|\n",
            "|       DESTRUCTION|           87281|            2021-05-11 10:03:25|    9697|BLP5 - 03/09/21|       4494| Blue Lime Pi|       null|         null|         null|                null|              null|                null|                 null|                 null|              763|Fresh Cannabis Waste|              19780|                 g|null|null|null|null|null|null|null|\n",
            "|       DESTRUCTION|          109489|            2021-06-14 11:38:56|    9697|BLP5 - 03/09/21|       4494| Blue Lime Pi|       null|         null|         null|                null|              null|                null|                 null|                 null|              763|Fresh Cannabis Waste|              13500|                 g|null|null|null|null|null|null|null|\n",
            "|       DESTRUCTION|          101146|            2021-06-01 14:09:41|    9697|BLP5 - 03/09/21|       4494| Blue Lime Pi|       null|         null|         null|                null|              null|                null|                 null|                 null|              763|Fresh Cannabis Waste|              90700|                 g|null|null|null|null|null|null|null|\n",
            "|       DESTRUCTION|          125959|            2021-07-12 14:34:00|    9697|BLP5 - 03/09/21|       4494| Blue Lime Pi|       null|         null|         null|                null|              null|                null|                 null|                 null|              763|Fresh Cannabis Waste|               6200|                 g|null|null|null|null|null|null|null|\n",
            "|       DESTRUCTION|          187343|             2021-09-16 9:25:37|    9697|BLP5 - 03/09/21|       4494| Blue Lime Pi|       null|         null|         null|                null|              null|                null|                 null|                 null|              819|      Dried Cannabis|             130602|                 g|null|null|null|null|null|null|null|\n",
            "+------------------+----------------+-------------------------------+--------+---------------+-----------+-------------+-----------+-------------+-------------+--------------------+------------------+--------------------+---------------------+---------------------+-----------------+--------------------+-------------------+------------------+----+----+----+----+----+----+----+\n",
            "\n"
          ]
        }
      ]
    },
    {
      "cell_type": "code",
      "source": [
        "df.filter(col('cultivar_name')=='Blue Lime Pi').show()"
      ],
      "metadata": {
        "colab": {
          "base_uri": "https://localhost:8080/"
        },
        "id": "ZLg-D5NkGPdl",
        "outputId": "2d544ba2-2a24-4eac-ac2c-872680c258a8"
      },
      "execution_count": 115,
      "outputs": [
        {
          "output_type": "stream",
          "name": "stdout",
          "text": [
            "+------------------+----------------+-------------------------------+--------+--------------------+-----------+-------------+-----------+--------------------+-------------+--------------------+------------------+--------------------+---------------------+---------------------+-----------------+--------------------+-------------------+------------------+----+----+----+----+----+----+----+\n",
            "|measure_event_type|measure_event_id|measure_event_performed_on_date|batch_id|          batch_name|cultivar_id|cultivar_name|location_id|       location_name|work_order_id|     work_order_name|work_order_type_id|work_order_type_name|work_order_start_date|work_order_close_date|substance_type_id| substance_type_name|measure_event_value|measure_event_unit|_c19|_c20|_c21|_c22|_c23|_c24|_c25|\n",
            "+------------------+----------------+-------------------------------+--------+--------------------+-----------+-------------+-----------+--------------------+-------------+--------------------+------------------+--------------------+---------------------+---------------------+-----------------+--------------------+-------------------+------------------+----+----+----+----+----+----+----+\n",
            "|        WO - INPUT|          130918|             2021-06-28 9:35:25|    9697|     BLP5 - 03/09/21|       4494| Blue Lime Pi|       null|                null|         9494|BLP5 - 03/09/21  ...|               446|              Drying|   2021-06-28 9:34:55|   2021-07-15 9:39:40|              762|      Fresh Cannabis|             642300|                 g|null|null|null|null|null|null|null|\n",
            "|        WO - INPUT|          291636|            2021-12-06 14:42:17|   15527|Blue Lime Pi 9 07...|       4494| Blue Lime Pi|       null|                null|        24476|10g To Pura for C...|               704|     Sample Shipment|  2021-12-06 11:42:04|   2021-12-07 8:42:47|              819|      Dried Cannabis|                 10|                 g|null|null|null|null|null|null|null|\n",
            "|        WO - INPUT|          297663|            2021-12-10 13:33:20|   15527|Blue Lime Pi 9 07...|       4494| Blue Lime Pi|       1357|203 - Secure storage|        24915|200g BLP #9 Inter...|               776|Internal Retentio...|  2021-12-10 13:32:57|   2022-01-20 9:17:00|              819|      Dried Cannabis|                200|                 g|null|null|null|null|null|null|null|\n",
            "|        WO - INPUT|          275700|            2021-11-11 15:43:11|   15527|Blue Lime Pi 9 07...|       4494| Blue Lime Pi|       null|                null|        23070|Blue Lime Pi 9 07...|               446|              Drying|  2021-11-11 15:42:56|  2021-11-24 13:48:12|              762|      Fresh Cannabis|             235732|                 g|null|null|null|null|null|null|null|\n",
            "|        WO - INPUT|          281173|            2021-11-25 11:38:31|   15527|Blue Lime Pi 9 07...|       4494| Blue Lime Pi|       null|                null|        23523|30g Pura Sample F...|               704|     Sample Shipment|  2021-11-25 11:38:15|  2021-11-29 11:38:44|              819|      Dried Cannabis|                 30|                 g|null|null|null|null|null|null|null|\n",
            "|        WO - INPUT|          281333|            2021-11-26 12:48:10|   15527|Blue Lime Pi 9 07...|       4494| Blue Lime Pi|       null|                null|        23550|20g Sample to Lab...|               704|     Sample Shipment|  2021-11-26 12:47:54|  2021-11-29 12:48:18|              819|      Dried Cannabis|                 20|                 g|null|null|null|null|null|null|null|\n",
            "|        WO - INPUT|          281335|            2021-11-26 12:49:12|   15527|Blue Lime Pi 9 07...|       4494| Blue Lime Pi|       null|                null|        23551|10g Sample to Hig...|               704|     Sample Shipment|  2021-11-26 12:48:31|  2021-11-26 12:49:18|              819|      Dried Cannabis|                 10|                 g|null|null|null|null|null|null|null|\n",
            "|        WO - INPUT|          325908|            2021-12-30 10:15:11|   15527|Blue Lime Pi 9 07...|       4494| Blue Lime Pi|       1356|202 - Post-harves...|        27382|Trimming conclude...|              1141| Trimming Work Order|  2021-12-30 10:14:53|  2022-01-06 15:52:00|              819|      Dried Cannabis|              51128|                 g|null|null|null|null|null|null|null|\n",
            "|        WO - INPUT|          329574|             2022-01-05 9:32:24|   15527|Blue Lime Pi 9 07...|       4494| Blue Lime Pi|       1357|203 - Secure storage|        27490|Sitka Sale 2022-0...|               557|    Sale of Cannabis|   2022-01-05 9:31:32|   2022-01-05 9:32:58|              819|      Dried Cannabis|              27116|                 g|null|null|null|null|null|null|null|\n",
            "|        WO - INPUT|          329576|             2022-01-05 9:33:56|   15527|Blue Lime Pi 9 07...|       4494| Blue Lime Pi|       1357|203 - Secure storage|        27491|Good Buds Sale 20...|               557|    Sale of Cannabis|   2022-01-05 9:33:12|   2022-01-05 9:34:08|              819|      Dried Cannabis|              13136|                 g|null|null|null|null|null|null|null|\n",
            "|        WO - INPUT|          343769|            2022-01-17 10:06:19|   15527|Blue Lime Pi 9 07...|       4494| Blue Lime Pi|       1357|203 - Secure storage|        29124|Blue Lime PI (Zki...|               557|    Sale of Cannabis|  2022-01-17 10:02:27|  2022-01-17 10:06:31|              819|      Dried Cannabis|              13136|                 g|null|null|null|null|null|null|null|\n",
            "|       WO - OUTPUT|          130921|             2021-07-15 9:36:39|    9697|     BLP5 - 03/09/21|       4494| Blue Lime Pi|       null|                null|         9494|BLP5 - 03/09/21  ...|               446|              Drying|   2021-06-28 9:34:55|   2021-07-15 9:39:40|              819|      Dried Cannabis|             130662|                 g|null|null|null|null|null|null|null|\n",
            "|       WO - OUTPUT|          119725|             2021-06-30 9:25:03|    9697|     BLP5 - 03/09/21|       4494| Blue Lime Pi|       null|                null|         7892|BLP5 - 03/09/21  ...|               430|             Harvest|   2021-06-28 9:23:23|   2021-07-02 9:28:21|              762|      Fresh Cannabis|             642300|                 g|null|null|null|null|null|null|null|\n",
            "|       WO - OUTPUT|          260255|            2021-11-10 15:48:24|   15527|Blue Lime Pi 9 07...|       4494| Blue Lime Pi|       null|                null|        21572|Blue Lime Pi 9 07...|               430|             Harvest|   2021-11-10 8:00:15|  2021-11-11 12:50:55|              762|      Fresh Cannabis|             235732|                 g|null|null|null|null|null|null|null|\n",
            "|       WO - OUTPUT|          347913|            2021-12-10 21:16:39|   15527|Blue Lime Pi 9 07...|       4494| Blue Lime Pi|       1357|203 - Secure storage|        24915|200g BLP #9 Inter...|               776|Internal Retentio...|  2021-12-10 13:32:57|   2022-01-20 9:17:00|             1345|Internal Retentio...|                200|                 g|null|null|null|null|null|null|null|\n",
            "|       WO - OUTPUT|          275711|            2021-11-24 13:47:33|   15527|Blue Lime Pi 9 07...|       4494| Blue Lime Pi|       null|                null|        23070|Blue Lime Pi 9 07...|               446|              Drying|  2021-11-11 15:42:56|  2021-11-24 13:48:12|              819|      Dried Cannabis|              51198|                 g|null|null|null|null|null|null|null|\n",
            "|       WO - OUTPUT|          325911|            2021-12-30 10:16:03|   15527|Blue Lime Pi 9 07...|       4494| Blue Lime Pi|       1356|202 - Post-harves...|        27382|Trimming conclude...|              1141| Trimming Work Order|  2021-12-30 10:14:53|  2022-01-06 15:52:00|              819|      Dried Cannabis|              50318|                 g|null|null|null|null|null|null|null|\n",
            "|       WO - OUTPUT|          336072|            2022-01-10 13:38:23|   15527|Blue Lime Pi 9 07...|       4494| Blue Lime Pi|       1356|202 - Post-harves...|        28125|Dried Cannabis Re...|              1162|Dried Cannabis Re...|  2022-01-10 13:37:13|  2022-01-10 14:46:33|              819|      Dried Cannabis|              13136|                 g|null|null|null|null|null|null|null|\n",
            "|  WO - DESTRUCTION|          119726|            2021-06-30 14:27:50|    9697|     BLP5 - 03/09/21|       4494| Blue Lime Pi|       null|                null|         7892|BLP5 - 03/09/21  ...|               430|             Harvest|   2021-06-28 9:23:23|   2021-07-02 9:28:21|              763|Fresh Cannabis Waste|               2200|                 g|null|null|null|null|null|null|null|\n",
            "|  WO - DESTRUCTION|          275712|            2021-11-24 13:48:06|   15527|Blue Lime Pi 9 07...|       4494| Blue Lime Pi|       null|                null|        23070|Blue Lime Pi 9 07...|               446|              Drying|  2021-11-11 15:42:56|  2021-11-24 13:48:12|              819|      Dried Cannabis|                398|                 g|null|null|null|null|null|null|null|\n",
            "+------------------+----------------+-------------------------------+--------+--------------------+-----------+-------------+-----------+--------------------+-------------+--------------------+------------------+--------------------+---------------------+---------------------+-----------------+--------------------+-------------------+------------------+----+----+----+----+----+----+----+\n",
            "only showing top 20 rows\n",
            "\n"
          ]
        }
      ]
    },
    {
      "cell_type": "code",
      "source": [
        "df.filter((col('cultivar_name')=='Blue Lime Pi')&\\\n",
        "          (col('work_order_type_name')=='Drying')&\\\n",
        "          (col('substance_type_name')=='Dried Cannabis')\\\n",
        "          &(col('measure_event_type')=='WO - OUTPUT')).show()"
      ],
      "metadata": {
        "colab": {
          "base_uri": "https://localhost:8080/"
        },
        "id": "8g1qlwKlGPo_",
        "outputId": "c9a41592-55df-45a5-8f9a-81c8e8ff0bdf"
      },
      "execution_count": 127,
      "outputs": [
        {
          "output_type": "stream",
          "name": "stdout",
          "text": [
            "+------------------+----------------+-------------------------------+--------+--------------------+-----------+-------------+-----------+-------------+-------------+--------------------+------------------+--------------------+---------------------+---------------------+-----------------+-------------------+-------------------+------------------+----+----+----+----+----+----+----+\n",
            "|measure_event_type|measure_event_id|measure_event_performed_on_date|batch_id|          batch_name|cultivar_id|cultivar_name|location_id|location_name|work_order_id|     work_order_name|work_order_type_id|work_order_type_name|work_order_start_date|work_order_close_date|substance_type_id|substance_type_name|measure_event_value|measure_event_unit|_c19|_c20|_c21|_c22|_c23|_c24|_c25|\n",
            "+------------------+----------------+-------------------------------+--------+--------------------+-----------+-------------+-----------+-------------+-------------+--------------------+------------------+--------------------+---------------------+---------------------+-----------------+-------------------+-------------------+------------------+----+----+----+----+----+----+----+\n",
            "|       WO - OUTPUT|          130921|             2021-07-15 9:36:39|    9697|     BLP5 - 03/09/21|       4494| Blue Lime Pi|       null|         null|         9494|BLP5 - 03/09/21  ...|               446|              Drying|   2021-06-28 9:34:55|   2021-07-15 9:39:40|              819|     Dried Cannabis|             130662|                 g|null|null|null|null|null|null|null|\n",
            "|       WO - OUTPUT|          275711|            2021-11-24 13:47:33|   15527|Blue Lime Pi 9 07...|       4494| Blue Lime Pi|       null|         null|        23070|Blue Lime Pi 9 07...|               446|              Drying|  2021-11-11 15:42:56|  2021-11-24 13:48:12|              819|     Dried Cannabis|              51198|                 g|null|null|null|null|null|null|null|\n",
            "+------------------+----------------+-------------------------------+--------+--------------------+-----------+-------------+-----------+-------------+-------------+--------------------+------------------+--------------------+---------------------+---------------------+-----------------+-------------------+-------------------+------------------+----+----+----+----+----+----+----+\n",
            "\n"
          ]
        }
      ]
    },
    {
      "cell_type": "code",
      "source": [
        "co2_sensor_data = spark.read.csv('/content/ProgrammingforBigData/Big Data Project/data/co2_sensor_1.csv',header='true',inferSchema=True)"
      ],
      "metadata": {
        "id": "8ubAK-QoGgfB"
      },
      "execution_count": 128,
      "outputs": []
    },
    {
      "cell_type": "code",
      "source": [
        "co2_sensor_data.filter((col('Date')<='2021-07-15')&(col('Date')>='2021-04-15')).show()"
      ],
      "metadata": {
        "id": "cN44uFHNM356",
        "outputId": "ba700253-cef3-4fd6-8a38-ba3af3f6a8eb",
        "colab": {
          "base_uri": "https://localhost:8080/"
        }
      },
      "execution_count": 138,
      "outputs": [
        {
          "output_type": "stream",
          "name": "stdout",
          "text": [
            "+--------------------+--------+------------------+-------------------+-----+--------------------+-------+-------------+------------+---------+----------+---------------+-------+\n",
            "|     DataMessageGUID|SensorID|       Sensor Name|               Date|Value|     Formatted Value|Battery|     Raw Data|Sensor State|GatewayID|Alert Sent|Signal Strength|Voltage|\n",
            "+--------------------+--------+------------------+-------------------+-----+--------------------+-------+-------------+------------+---------+----------+---------------+-------+\n",
            "|54aff7bb-d97c-4ec...|  595683|CO2 Meter - 595683|2021-04-29 13:26:00|  512|CO2 Instantaneous...|     73|512|541|0|359|           0|   942254|     false|             71|   2.64|\n",
            "|e2c27bad-fc36-4ca...|  595683|CO2 Meter - 595683|2021-04-29 13:16:00|  522|CO2 Instantaneous...|     73|522|541|0|383|           0|   942254|     false|             67|   2.64|\n",
            "|d186c2b5-0453-40e...|  595683|CO2 Meter - 595683|2021-04-29 13:06:00|  520|CO2 Instantaneous...|     73|520|540|0|374|           0|   942254|     false|             64|   2.64|\n",
            "|09a6403f-4d0a-4f1...|  595683|CO2 Meter - 595683|2021-04-29 12:56:00|  525|CO2 Instantaneous...|     73|525|539|0|379|           0|   942254|     false|             68|   2.64|\n",
            "|8dd78f3c-c0f0-431...|  595683|CO2 Meter - 595683|2021-04-29 12:46:00|  530|CO2 Instantaneous...|     73|530|538|0|383|           0|   942254|     false|             72|   2.64|\n",
            "|a73f2f05-2023-4e2...|  595683|CO2 Meter - 595683|2021-04-29 12:36:00|  538|CO2 Instantaneous...|     73|538|538|0|387|           0|   942254|     false|             62|   2.64|\n",
            "|7a633727-f2ba-40c...|  595683|CO2 Meter - 595683|2021-04-29 12:26:00|  567|CO2 Instantaneous...|     73|567|537|0|395|           0|   942254|     false|             41|   2.64|\n",
            "|89e1a70f-03de-46c...|  595683|CO2 Meter - 595683|2021-04-29 12:16:00|  603|CO2 Instantaneous...|     73|603|536|0|431|           0|   942254|     false|             70|   2.64|\n",
            "|f3051c4e-89e2-470...|  595683|CO2 Meter - 595683|2021-04-29 12:06:00|  642|CO2 Instantaneous...|     73|642|534|0|451|           0|   942254|     false|             67|   2.64|\n",
            "|5ae7f9d5-babb-432...|  595683|CO2 Meter - 595683|2021-04-29 11:56:00|  678|CO2 Instantaneous...|     73|678|532|0|492|           0|   942254|     false|             66|   2.64|\n",
            "|f3dd15ed-d491-492...|  595683|CO2 Meter - 595683|2021-04-29 11:46:00|  715|CO2 Instantaneous...|     73|715|529|0|506|           0|   942254|     false|             46|   2.64|\n",
            "|1fa93859-41a7-448...|  595683|CO2 Meter - 595683|2021-04-29 11:36:00|  750|CO2 Instantaneous...|     73|750|526|0|548|           0|   942254|     false|             71|   2.64|\n",
            "|e42b9f61-68a2-472...|  595683|CO2 Meter - 595683|2021-04-29 11:26:00|  739|CO2 Instantaneous...|     73|739|521|0|560|           0|   942254|     false|             60|   2.64|\n",
            "|43185ea2-1f58-469...|  595683|CO2 Meter - 595683|2021-04-29 11:16:00|  712|CO2 Instantaneous...|     73|712|516|0|532|           0|   942254|     false|             65|   2.64|\n",
            "|0e12a0f1-ab61-4c9...|  595683|CO2 Meter - 595683|2021-04-29 11:06:00|  675|CO2 Instantaneous...|     73|675|512|0|518|           0|   942254|     false|             53|   2.64|\n",
            "|69f3579f-8b32-43d...|  595683|CO2 Meter - 595683|2021-04-29 10:56:00|  654|CO2 Instantaneous...|     73|654|509|0|475|           0|   942254|     false|             68|   2.64|\n",
            "|1f205920-807d-4ac...|  595683|CO2 Meter - 595683|2021-04-29 10:46:00|  639|CO2 Instantaneous...|     73|639|506|0|486|           0|   942254|     false|             65|   2.64|\n",
            "|5187c024-98b6-4c6...|  595683|CO2 Meter - 595683|2021-04-29 10:36:00|  602|CO2 Instantaneous...|     73|602|503|0|451|           0|   942254|     false|             67|   2.64|\n",
            "|7e8b52c3-bcb3-428...|  595683|CO2 Meter - 595683|2021-04-29 10:26:00|  595|CO2 Instantaneous...|     73|595|501|0|430|           0|   942254|     false|             61|   2.64|\n",
            "|b356b2bc-9b82-47d...|  595683|CO2 Meter - 595683|2021-04-29 10:16:00|  623|CO2 Instantaneous...|     72|623|500|0|440|           0|   942254|     false|             71|   2.63|\n",
            "+--------------------+--------+------------------+-------------------+-----+--------------------+-------+-------------+------------+---------+----------+---------------+-------+\n",
            "only showing top 20 rows\n",
            "\n"
          ]
        }
      ]
    },
    {
      "cell_type": "code",
      "source": [
        ""
      ],
      "metadata": {
        "id": "vtFgsJ6AM432"
      },
      "execution_count": null,
      "outputs": []
    }
  ],
  "metadata": {
    "kernelspec": {
      "display_name": "Python 3",
      "language": "python",
      "name": "python3"
    },
    "language_info": {
      "codemirror_mode": {
        "name": "ipython",
        "version": 2
      },
      "file_extension": ".py",
      "mimetype": "text/x-python",
      "name": "python",
      "nbconvert_exporter": "python",
      "pygments_lexer": "ipython2",
      "version": "2.7.6"
    },
    "colab": {
      "name": "Yield Prediction.ipynb",
      "provenance": []
    }
  },
  "nbformat": 4,
  "nbformat_minor": 0
}